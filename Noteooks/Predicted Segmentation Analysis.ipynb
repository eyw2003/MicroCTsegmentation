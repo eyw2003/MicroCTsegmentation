{
 "cells": [
  {
   "cell_type": "code",
   "execution_count": 1,
   "id": "f03fb18b",
   "metadata": {},
   "outputs": [],
   "source": [
    "import cv2\n",
    "import pandas as pd\n",
    "import numpy as np\n",
    "import matplotlib.pyplot as plt\n",
    "from pathlib import Path\n",
    "import os\n",
    "from collections import defaultdict\n",
    "import nibabel as nib\n",
    "from tqdm import tqdm\n",
    "from skimage.measure import marching_cubes_lewiner\n",
    "import meshplot as mp\n",
    "import matplotlib.pyplot as plt"
   ]
  },
  {
   "cell_type": "markdown",
   "id": "f2775801",
   "metadata": {},
   "source": [
    "## Visualize Ground Truth mask and Predicted mask side by side"
   ]
  },
  {
   "cell_type": "code",
   "execution_count": 7,
   "id": "f6e7bf67",
   "metadata": {},
   "outputs": [],
   "source": [
    "PREDICTIONS_BASE_PATH=Path(r'C:\\Users\\lm3088\\Documents\\GitHub\\MicroCTsegmentation\\Unet_se_resnext50_32x4d_Outputs\\Outputs')\n",
    "subject = 'ct_train_1004_image'  # You can change the subject name\n",
    "ground_truth_mask=np.array(nib.load(os.path.join(PREDICTIONS_BASE_PATH,subject,'ground_truth_mask.nii.gz')).get_fdata())\n",
    "predicted_mask=np.array(nib.load(os.path.join(PREDICTIONS_BASE_PATH,subject,'prediction_mask.nii.gz')).get_fdata())"
   ]
  },
  {
   "cell_type": "code",
   "execution_count": 8,
   "id": "ccca9e50",
   "metadata": {},
   "outputs": [
    {
     "name": "stderr",
     "output_type": "stream",
     "text": [
      "C:\\Users\\lm3088\\AppData\\Local\\Temp/ipykernel_21716/3775177587.py:1: FutureWarning: marching_cubes_lewiner is deprecated in favor of marching_cubes. marching_cubes_lewiner will be removed in version 0.19\n",
      "  v1,f1,_,_ = marching_cubes_lewiner(predicted_mask)\n",
      "C:\\Users\\lm3088\\AppData\\Local\\Temp/ipykernel_21716/3775177587.py:2: FutureWarning: marching_cubes_lewiner is deprecated in favor of marching_cubes. marching_cubes_lewiner will be removed in version 0.19\n",
      "  v2,f2,_,_ = marching_cubes_lewiner(ground_truth_mask)\n"
     ]
    }
   ],
   "source": [
    "v1,f1,_,_ = marching_cubes_lewiner(predicted_mask)\n",
    "v2,f2,_,_ = marching_cubes_lewiner(ground_truth_mask)"
   ]
  },
  {
   "cell_type": "markdown",
   "id": "4180ac67",
   "metadata": {},
   "source": [
    "### Predicted Mask"
   ]
  },
  {
   "cell_type": "code",
   "execution_count": 9,
   "id": "be03f21e",
   "metadata": {},
   "outputs": [
    {
     "data": {
      "application/vnd.jupyter.widget-view+json": {
       "model_id": "4d5fa1f2e4614acc866e991296ff2f42",
       "version_major": 2,
       "version_minor": 0
      },
      "text/plain": [
       "Renderer(camera=PerspectiveCamera(children=(DirectionalLight(color='white', intensity=0.6, position=(233.5, 30…"
      ]
     },
     "metadata": {},
     "output_type": "display_data"
    }
   ],
   "source": [
    "p = mp.plot(v1, f1,c=v1[:,0], return_plot=True)\n",
    "# p.add_points(v1 + 200, c=v1[:,2] );\n"
   ]
  },
  {
   "cell_type": "markdown",
   "id": "6c2d70ed",
   "metadata": {},
   "source": [
    "### Ground Truth mask"
   ]
  },
  {
   "cell_type": "code",
   "execution_count": 6,
   "id": "85c6e5f8",
   "metadata": {},
   "outputs": [
    {
     "data": {
      "application/vnd.jupyter.widget-view+json": {
       "model_id": "75c7243e467648549e6fa520862c2b54",
       "version_major": 2,
       "version_minor": 0
      },
      "text/plain": [
       "Renderer(camera=PerspectiveCamera(children=(DirectionalLight(color='white', intensity=0.6, position=(235.5, 29…"
      ]
     },
     "metadata": {},
     "output_type": "display_data"
    }
   ],
   "source": [
    "p = mp.plot(v2, f2,c=v2[:,0],return_plot=True)\n",
    "# p.add_points(v2 + 200, c=v2[:,2] );"
   ]
  },
  {
   "cell_type": "markdown",
   "id": "a0aeae3d",
   "metadata": {},
   "source": [
    "### Analyzing Models"
   ]
  },
  {
   "cell_type": "code",
   "execution_count": 57,
   "id": "1982e19d",
   "metadata": {},
   "outputs": [],
   "source": [
    "# best_metrics={}\n",
    "# best_loss={}\n",
    "# all_models = os.listdir(\"../Trained Weights - Human Heart\")\n",
    "# for k in all_models:\n",
    "#     df=pd.read_csv(os.path.join(\"../Trained Weights - Human Heart\",k,\"validation_logs.csv\"))\n",
    "#     best_metrics[k]=max(df['iou_score'])\n",
    "#     best_loss[k]=min(df['dice_loss'])"
   ]
  },
  {
   "cell_type": "code",
   "execution_count": 58,
   "id": "ff4f5d1a",
   "metadata": {},
   "outputs": [
    {
     "name": "stdout",
     "output_type": "stream",
     "text": [
      "{'Unet_efficientnet-b4': 0.8820714964271043, 'Unet_resnet101': 0.883959390579499, 'Unet_se_resnext50_32x4d': 0.8848143161874713}\n"
     ]
    }
   ],
   "source": [
    "# print(best_metrics)"
   ]
  },
  {
   "cell_type": "code",
   "execution_count": 5,
   "id": "735255e6",
   "metadata": {},
   "outputs": [],
   "source": [
    "# plt.figure(figsize=(10,10))\n",
    "# plt.rc('xtick', labelsize=15) \n",
    "# plt.rc('ytick', labelsize=15) \n",
    "\n",
    "\n",
    "# plt.plot(best_metrics.keys(),best_loss.values(),\"-o\")\n",
    "# # plt.plot(best_metrics.keys(),best_loss.values(),\"o\")\n",
    "\n",
    "\n",
    "# # plt.plot(\"a\", list(best_metrics.values())[0], \"v\")\n",
    "# # plt.plot(\"b\", list(best_metrics.values())[0], \"d\")\n",
    "# # plt.plot(\"c\", list(best_metrics.values())[0], \"x\")\n",
    "# plt.legend([\"dice_loss\"])\n"
   ]
  },
  {
   "cell_type": "code",
   "execution_count": null,
   "id": "ab82fb8a",
   "metadata": {},
   "outputs": [],
   "source": []
  }
 ],
 "metadata": {
  "kernelspec": {
   "display_name": "Python 3 (ipykernel)",
   "language": "python",
   "name": "python3"
  },
  "language_info": {
   "codemirror_mode": {
    "name": "ipython",
    "version": 3
   },
   "file_extension": ".py",
   "mimetype": "text/x-python",
   "name": "python",
   "nbconvert_exporter": "python",
   "pygments_lexer": "ipython3",
   "version": "3.9.7"
  }
 },
 "nbformat": 4,
 "nbformat_minor": 5
}
