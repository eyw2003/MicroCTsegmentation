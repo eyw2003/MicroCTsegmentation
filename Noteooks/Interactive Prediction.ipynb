{
 "cells": [
  {
   "cell_type": "markdown",
   "id": "908da72c",
   "metadata": {},
   "source": [
    "## Mice 3D Micro-CT Segmentation and Visualization"
   ]
  },
  {
   "cell_type": "markdown",
   "id": "27ecd881",
   "metadata": {},
   "source": [
    "**Import necessary libraries**"
   ]
  },
  {
   "cell_type": "code",
   "execution_count": 1,
   "id": "0166b34c",
   "metadata": {},
   "outputs": [],
   "source": [
    "import sys\n",
    "sys.path.append(\"..\") \n",
    "import cv2\n",
    "import pandas as pd\n",
    "import numpy as np\n",
    "import matplotlib.pyplot as plt\n",
    "import torch\n",
    "from pathlib import Path\n",
    "import os\n",
    "import imageio\n",
    "import torch.cuda\n",
    "import segmentation_models_pytorch as smp\n",
    "from collections import defaultdict\n",
    "import nibabel as nib\n",
    "from tqdm import tqdm\n",
    "from Utils.dataset_utils import *\n",
    "from Utils.prediction_utils import *\n",
    "from Utils.visualization_utils import *\n",
    "from ipywidgets import *\n",
    "from IPython.display import clear_output, display\n",
    "from tkinter import Tk, filedialog\n",
    "import SimpleITK as sitk"
   ]
  },
  {
   "cell_type": "code",
   "execution_count": 2,
   "id": "31c15b11",
   "metadata": {},
   "outputs": [],
   "source": [
    "DEVICE = 'cuda'\n",
    "MODEL_NAME='Unet'\n",
    "ENCODER='efficientnet-b4'\n",
    "ENCODER_WEIGHTS='imagenet'\n",
    "BEST_WEIGHTS=r\"G:\\Documents\\GitHub122121\\MicroCTsegmentation\\Mice CT Training weights - Final\\Unet_efficientnet-b4\\best_score.pt\""
   ]
  },
  {
   "cell_type": "code",
   "execution_count": 3,
   "id": "88e17bfb",
   "metadata": {},
   "outputs": [],
   "source": [
    "def select_files(b):\n",
    "    clear_output()                                         # Button is deleted after it is clicked.\n",
    "    root = Tk()\n",
    "    root.withdraw()                                        # Hide the main window.\n",
    "    root.call('wm', 'attributes', '.', '-topmost', True)   # Raise the root to the top of all windows.\n",
    "    b.files = filedialog.askopenfilename(multiple=True)    # List of selected files will be set button's file attribute.\n",
    "    print(b.files)  \n",
    "def select_folder(b):\n",
    "    clear_output() \n",
    "    root = Tk() # pointing root to Tk() to use it as Tk() in program.\n",
    "    root.withdraw() # Hides small tkinter window.\n",
    "    root.attributes('-topmost', True) # Opened windows will be active. above all windows despite of selection.\n",
    "    b.folder = filedialog.askdirectory()\n",
    "    print(b.folder)"
   ]
  },
  {
   "cell_type": "markdown",
   "id": "d58e4bdf",
   "metadata": {},
   "source": [
    "**Select Model Weights**"
   ]
  },
  {
   "cell_type": "code",
   "execution_count": 4,
   "id": "3e8e1030",
   "metadata": {},
   "outputs": [
    {
     "name": "stdout",
     "output_type": "stream",
     "text": [
      "('G:/Documents/GitHub122121/MicroCTsegmentation/Mice CT Training weights - Final/Unet_efficientnet-b4/best_score.pt',)\n"
     ]
    }
   ],
   "source": [
    "weight_select = Button(description=\"Select Weights\")\n",
    "weight_select.on_click(select_files)\n",
    "display(weight_select)"
   ]
  },
  {
   "cell_type": "code",
   "execution_count": 6,
   "id": "71c53665",
   "metadata": {},
   "outputs": [],
   "source": [
    "BEST_WEIGHTS = weight_select.files[0]"
   ]
  },
  {
   "cell_type": "markdown",
   "id": "f88ced75",
   "metadata": {},
   "source": [
    "**Load Model*"
   ]
  },
  {
   "cell_type": "code",
   "execution_count": 7,
   "id": "f3d93fd0",
   "metadata": {},
   "outputs": [
    {
     "name": "stderr",
     "output_type": "stream",
     "text": [
      "C:\\Users\\ns3597\\AppData\\Local\\Temp/ipykernel_68036/2587161121.py:2: FutureWarning: You are using `torch.load` with `weights_only=False` (the current default value), which uses the default pickle module implicitly. It is possible to construct malicious pickle data which will execute arbitrary code during unpickling (See https://github.com/pytorch/pytorch/blob/main/SECURITY.md#untrusted-models for more details). In a future release, the default value for `weights_only` will be flipped to `True`. This limits the functions that could be executed during unpickling. Arbitrary objects will no longer be allowed to be loaded via this mode unless they are explicitly allowlisted by the user via `torch.serialization.add_safe_globals`. We recommend you start setting `weights_only=True` for any use case where you don't have full control of the loaded file. Please open an issue on GitHub for any issues related to this experimental feature.\n",
      "  best_model = torch.load(BEST_WEIGHTS, map_location=torch.device(DEVICE))\n"
     ]
    }
   ],
   "source": [
    "preprocessing_fn = smp.encoders.get_preprocessing_fn(ENCODER, ENCODER_WEIGHTS)\n",
    "best_model = torch.load(BEST_WEIGHTS, map_location=torch.device(DEVICE))"
   ]
  },
  {
   "cell_type": "markdown",
   "id": "bb2dd321",
   "metadata": {},
   "source": [
    "**Select Subject**"
   ]
  },
  {
   "cell_type": "code",
   "execution_count": 8,
   "id": "649b97ca",
   "metadata": {},
   "outputs": [
    {
     "name": "stdout",
     "output_type": "stream",
     "text": [
      "('G:/Data/microCT/rawDICOM/C57mice_02042021/C57-#9-MicroCT-020421 - Cardiac CT_105254-systole/Elaine Wan Cardio Test_362_Mouse 9_105254-systole_0512.nii',)\n"
     ]
    }
   ],
   "source": [
    "subject_select = Button(description=\"Select Subject\")\n",
    "subject_select.on_click(select_files)\n",
    "display(subject_select)"
   ]
  },
  {
   "cell_type": "code",
   "execution_count": 9,
   "id": "070f145e",
   "metadata": {},
   "outputs": [],
   "source": [
    "SUBJECT_PATH=subject_select.files[0]"
   ]
  },
  {
   "cell_type": "code",
   "execution_count": 10,
   "id": "be88af13",
   "metadata": {},
   "outputs": [],
   "source": [
    "SUBJECT=os.path.split(SUBJECT_PATH)[-1]"
   ]
  },
  {
   "cell_type": "code",
   "execution_count": 11,
   "id": "5e8ebe7d",
   "metadata": {},
   "outputs": [
    {
     "name": "stdout",
     "output_type": "stream",
     "text": [
      "\n"
     ]
    }
   ],
   "source": [
    "volume,gt_mask,affine=load_case(SUBJECT_PATH,\"\")"
   ]
  },
  {
   "cell_type": "code",
   "execution_count": 12,
   "id": "ca9611fb",
   "metadata": {
    "scrolled": true
   },
   "outputs": [
    {
     "name": "stderr",
     "output_type": "stream",
     "text": [
      "100%|████████████████████████████████████████████████████████████████████████████████| 512/512 [00:25<00:00, 20.39it/s]\n",
      "100%|████████████████████████████████████████████████████████████████████████████████| 512/512 [00:23<00:00, 21.43it/s]\n",
      "100%|████████████████████████████████████████████████████████████████████████████████| 512/512 [00:31<00:00, 16.33it/s]\n"
     ]
    }
   ],
   "source": [
    "volume_pred_mask=predict_volume(best_model,volume,True,preprocessing_fn)\n",
    "volume_pred_mask=np.round(volume_pred_mask)"
   ]
  },
  {
   "cell_type": "markdown",
   "id": "5c6394d0",
   "metadata": {},
   "source": [
    "**Predict Volume**"
   ]
  },
  {
   "cell_type": "markdown",
   "id": "87481f5c",
   "metadata": {},
   "source": [
    "**Saving predicted mask as .nii and .stl**"
   ]
  },
  {
   "cell_type": "code",
   "execution_count": 13,
   "id": "227b92c0",
   "metadata": {},
   "outputs": [],
   "source": [
    "def create_folder(path):\n",
    "    if os.path.exists(path)==False:\n",
    "        os.mkdir(path)\n",
    "save_folder=os.path.split(SUBJECT_PATH)[:-1][0]\n",
    "create_folder(os.path.join(save_folder,'Output'))\n",
    "create_folder(os.path.join(save_folder,'Movie'))"
   ]
  },
  {
   "cell_type": "code",
   "execution_count": 14,
   "id": "ee3183ad",
   "metadata": {},
   "outputs": [],
   "source": [
    "save_mask_nii(volume_pred_mask,affine,os.path.join(save_folder,'Output','prediction.nii.gz'))"
   ]
  },
  {
   "cell_type": "markdown",
   "id": "3c93d702",
   "metadata": {},
   "source": [
    "**Display Results - 2D**"
   ]
  },
  {
   "cell_type": "code",
   "execution_count": 15,
   "id": "6c48822f",
   "metadata": {},
   "outputs": [
    {
     "data": {
      "application/vnd.jupyter.widget-view+json": {
       "model_id": "10dba47108a049e79b73266c9d3f3408",
       "version_major": 2,
       "version_minor": 0
      },
      "text/plain": [
       "interactive(children=(IntSlider(value=255, description='idx', max=512), Output()), _dom_classes=('widget-inter…"
      ]
     },
     "metadata": {},
     "output_type": "display_data"
    },
    {
     "data": {
      "text/plain": [
       "<function __main__.display_2d(idx)>"
      ]
     },
     "execution_count": 15,
     "metadata": {},
     "output_type": "execute_result"
    }
   ],
   "source": [
    "def display_2d(idx):\n",
    "    visualize(\n",
    "            Z=draw_mask(volume[idx,:,:],volume_pred_mask[idx,:,:]),\n",
    "            Y=draw_mask(volume[:,idx,:],volume_pred_mask[:,idx,:]),\n",
    "            X=draw_mask(volume[:,:,idx],volume_pred_mask[:,:,idx])\n",
    "             )\n",
    "interact(display_2d,idx=widgets.IntSlider(min=0, max=512, step=1, value=255))\n"
   ]
  },
  {
   "cell_type": "markdown",
   "id": "aa3ce23f",
   "metadata": {},
   "source": [
    "**Save GIF**"
   ]
  },
  {
   "cell_type": "code",
   "execution_count": 16,
   "id": "e706a1bb",
   "metadata": {},
   "outputs": [
    {
     "name": "stderr",
     "output_type": "stream",
     "text": [
      "100%|████████████████████████████████████████████████████████████████████████████████| 512/512 [00:15<00:00, 32.64it/s]\n"
     ]
    }
   ],
   "source": [
    "def make_gif(volume,volume_pred_mask=None):\n",
    "    img_arr=[]\n",
    "    for idx in tqdm(range(volume.shape[0])):\n",
    "        Z=draw_mask(volume[idx,:,:],volume_pred_mask[idx,:,:])\n",
    "        Y=draw_mask(volume[:,idx,:],volume_pred_mask[:,idx,:])\n",
    "        X=draw_mask(volume[:,:,idx],volume_pred_mask[:,:,idx])\n",
    "#         print(X.shape,Y.shape,Z.shape)\n",
    "        stacked=np.hstack((X,Y,Z))\n",
    "        img_arr.append(stacked)\n",
    "    imageio.mimsave(os.path.join(save_folder,'Movie','movie.gif'), img_arr)\n",
    "    del img_arr\n",
    "make_gif(volume,volume_pred_mask)"
   ]
  },
  {
   "cell_type": "markdown",
   "id": "93f0e863",
   "metadata": {},
   "source": [
    "**Display Results - 3D**"
   ]
  },
  {
   "cell_type": "code",
   "execution_count": 17,
   "id": "7119a32f",
   "metadata": {},
   "outputs": [
    {
     "name": "stderr",
     "output_type": "stream",
     "text": [
      "C:\\Users\\ns3597\\AppData\\Local\\Temp/ipykernel_68036/3201479894.py:3: FutureWarning: marching_cubes_lewiner is deprecated in favor of marching_cubes. marching_cubes_lewiner will be removed in version 0.19\n",
      "  v1,f1,_,_ = marching_cubes_lewiner(volume_pred_mask)\n",
      "C:\\Users\\ns3597\\AppData\\Local\\anaconda3\\envs\\condaenv\\lib\\site-packages\\jupyter_client\\session.py:716: UserWarning: Message serialization failed with:\n",
      "Out of range float values are not JSON compliant\n",
      "Supporting this message is deprecated in jupyter-client 7, please make sure your message is JSON-compliant\n",
      "  content = self.pack(content)\n"
     ]
    },
    {
     "data": {
      "application/vnd.jupyter.widget-view+json": {
       "model_id": "0368559b441b4d468dc5ac2e1eede9dc",
       "version_major": 2,
       "version_minor": 0
      },
      "text/plain": [
       "Renderer(camera=PerspectiveCamera(children=(DirectionalLight(color='white', intensity=0.6, position=(261.5, 33…"
      ]
     },
     "metadata": {},
     "output_type": "display_data"
    }
   ],
   "source": [
    "import meshplot as mp\n",
    "from skimage.measure import marching_cubes_lewiner\n",
    "v1,f1,_,_ = marching_cubes_lewiner(volume_pred_mask)\n",
    "p = mp.plot(v1, f1,c=v1[:,0], return_plot=True)"
   ]
  },
  {
   "cell_type": "code",
   "execution_count": null,
   "id": "8229467e",
   "metadata": {},
   "outputs": [],
   "source": []
  },
  {
   "cell_type": "code",
   "execution_count": null,
   "id": "09af15ec",
   "metadata": {},
   "outputs": [],
   "source": []
  },
  {
   "cell_type": "code",
   "execution_count": null,
   "id": "0fda5b09",
   "metadata": {},
   "outputs": [],
   "source": []
  }
 ],
 "metadata": {
  "kernelspec": {
   "display_name": "Python 3 (ipykernel)",
   "language": "python",
   "name": "python3"
  },
  "language_info": {
   "codemirror_mode": {
    "name": "ipython",
    "version": 3
   },
   "file_extension": ".py",
   "mimetype": "text/x-python",
   "name": "python",
   "nbconvert_exporter": "python",
   "pygments_lexer": "ipython3",
   "version": "3.9.7"
  }
 },
 "nbformat": 4,
 "nbformat_minor": 5
}
