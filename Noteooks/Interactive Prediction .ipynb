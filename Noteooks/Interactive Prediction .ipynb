{
 "cells": [
  {
   "cell_type": "markdown",
   "id": "908da72c",
   "metadata": {},
   "source": [
    "## Mice 3D Micro-CT Segmentation and Visualization"
   ]
  },
  {
   "cell_type": "code",
   "execution_count": 13,
   "id": "0166b34c",
   "metadata": {},
   "outputs": [],
   "source": [
    "import sys\n",
    "sys.path.append(\"..\") \n",
    "import cv2\n",
    "import pandas as pd\n",
    "import numpy as np\n",
    "import matplotlib.pyplot as plt\n",
    "import torch\n",
    "from pathlib import Path\n",
    "import os\n",
    "import imageio\n",
    "import torch.cuda\n",
    "import segmentation_models_pytorch as smp\n",
    "from collections import defaultdict\n",
    "import nibabel as nib\n",
    "from tqdm import tqdm\n",
    "from Utils.dataset_utils import *\n",
    "from Utils.prediction_utils import *\n",
    "from Utils.visualization_utils import *\n",
    "from ipywidgets import *\n",
    "from IPython.display import clear_output, display\n",
    "from tkinter import Tk, filedialog\n",
    "import SimpleITK as sitk"
   ]
  },
  {
   "cell_type": "code",
   "execution_count": 14,
   "id": "31c15b11",
   "metadata": {},
   "outputs": [],
   "source": [
    "DEVICE = 'cuda'\n",
    "MODEL_NAME='Unet'\n",
    "ENCODER='efficientnet-b4'\n",
    "ENCODER_WEIGHTS='imagenet'\n",
    "BEST_WEIGHTS=r\"G:\\Projects and Work\\Mouse Heart Segmentation\\Trained Weights - 13 Mice Volumes\\Unet_efficientnet-b4\\best_score.pt\""
   ]
  },
  {
   "cell_type": "markdown",
   "id": "27ecd881",
   "metadata": {},
   "source": [
    "**Import necessary libraries**"
   ]
  },
  {
   "cell_type": "markdown",
   "id": "d58e4bdf",
   "metadata": {},
   "source": [
    "**Select Model Weights**"
   ]
  },
  {
   "cell_type": "code",
   "execution_count": 15,
   "id": "88e17bfb",
   "metadata": {},
   "outputs": [],
   "source": [
    "def select_files(b):\n",
    "    clear_output()                                         # Button is deleted after it is clicked.\n",
    "    root = Tk()\n",
    "    root.withdraw()                                        # Hide the main window.\n",
    "    root.call('wm', 'attributes', '.', '-topmost', True)   # Raise the root to the top of all windows.\n",
    "    b.files = filedialog.askopenfilename(multiple=True)    # List of selected files will be set button's file attribute.\n",
    "    print(b.files)  \n",
    "def select_folder(b):\n",
    "    clear_output() \n",
    "    root = Tk() # pointing root to Tk() to use it as Tk() in program.\n",
    "    root.withdraw() # Hides small tkinter window.\n",
    "    root.attributes('-topmost', True) # Opened windows will be active. above all windows despite of selection.\n",
    "    b.folder = filedialog.askdirectory()\n",
    "    print(b.folder)"
   ]
  },
  {
   "cell_type": "code",
   "execution_count": 16,
   "id": "f3d93fd0",
   "metadata": {},
   "outputs": [
    {
     "ename": "FileNotFoundError",
     "evalue": "[Errno 2] No such file or directory: 'G:\\\\Projects and Work\\\\Mouse Heart Segmentation\\\\Trained Weights - 13 Mice Volumes\\\\Unet_efficientnet-b4\\\\best_score.pt'",
     "output_type": "error",
     "traceback": [
      "\u001b[1;31m---------------------------------------------------------------------------\u001b[0m",
      "\u001b[1;31mFileNotFoundError\u001b[0m                         Traceback (most recent call last)",
      "\u001b[1;32m~\\AppData\\Local\\Temp/ipykernel_57224/3471740748.py\u001b[0m in \u001b[0;36m<module>\u001b[1;34m\u001b[0m\n\u001b[0;32m      1\u001b[0m \u001b[0mpreprocessing_fn\u001b[0m \u001b[1;33m=\u001b[0m \u001b[0msmp\u001b[0m\u001b[1;33m.\u001b[0m\u001b[0mencoders\u001b[0m\u001b[1;33m.\u001b[0m\u001b[0mget_preprocessing_fn\u001b[0m\u001b[1;33m(\u001b[0m\u001b[0mENCODER\u001b[0m\u001b[1;33m,\u001b[0m \u001b[0mENCODER_WEIGHTS\u001b[0m\u001b[1;33m)\u001b[0m\u001b[1;33m\u001b[0m\u001b[1;33m\u001b[0m\u001b[0m\n\u001b[1;32m----> 2\u001b[1;33m \u001b[0mbest_model\u001b[0m \u001b[1;33m=\u001b[0m \u001b[0mtorch\u001b[0m\u001b[1;33m.\u001b[0m\u001b[0mload\u001b[0m\u001b[1;33m(\u001b[0m\u001b[0mBEST_WEIGHTS\u001b[0m\u001b[1;33m)\u001b[0m\u001b[1;33m\u001b[0m\u001b[1;33m\u001b[0m\u001b[0m\n\u001b[0m",
      "\u001b[1;32m~\\AppData\\Local\\anaconda3\\envs\\condaenv\\lib\\site-packages\\torch\\serialization.py\u001b[0m in \u001b[0;36mload\u001b[1;34m(f, map_location, pickle_module, **pickle_load_args)\u001b[0m\n\u001b[0;32m    592\u001b[0m         \u001b[0mpickle_load_args\u001b[0m\u001b[1;33m[\u001b[0m\u001b[1;34m'encoding'\u001b[0m\u001b[1;33m]\u001b[0m \u001b[1;33m=\u001b[0m \u001b[1;34m'utf-8'\u001b[0m\u001b[1;33m\u001b[0m\u001b[1;33m\u001b[0m\u001b[0m\n\u001b[0;32m    593\u001b[0m \u001b[1;33m\u001b[0m\u001b[0m\n\u001b[1;32m--> 594\u001b[1;33m     \u001b[1;32mwith\u001b[0m \u001b[0m_open_file_like\u001b[0m\u001b[1;33m(\u001b[0m\u001b[0mf\u001b[0m\u001b[1;33m,\u001b[0m \u001b[1;34m'rb'\u001b[0m\u001b[1;33m)\u001b[0m \u001b[1;32mas\u001b[0m \u001b[0mopened_file\u001b[0m\u001b[1;33m:\u001b[0m\u001b[1;33m\u001b[0m\u001b[1;33m\u001b[0m\u001b[0m\n\u001b[0m\u001b[0;32m    595\u001b[0m         \u001b[1;32mif\u001b[0m \u001b[0m_is_zipfile\u001b[0m\u001b[1;33m(\u001b[0m\u001b[0mopened_file\u001b[0m\u001b[1;33m)\u001b[0m\u001b[1;33m:\u001b[0m\u001b[1;33m\u001b[0m\u001b[1;33m\u001b[0m\u001b[0m\n\u001b[0;32m    596\u001b[0m             \u001b[1;31m# The zipfile reader is going to advance the current file position.\u001b[0m\u001b[1;33m\u001b[0m\u001b[1;33m\u001b[0m\u001b[0m\n",
      "\u001b[1;32m~\\AppData\\Local\\anaconda3\\envs\\condaenv\\lib\\site-packages\\torch\\serialization.py\u001b[0m in \u001b[0;36m_open_file_like\u001b[1;34m(name_or_buffer, mode)\u001b[0m\n\u001b[0;32m    228\u001b[0m \u001b[1;32mdef\u001b[0m \u001b[0m_open_file_like\u001b[0m\u001b[1;33m(\u001b[0m\u001b[0mname_or_buffer\u001b[0m\u001b[1;33m,\u001b[0m \u001b[0mmode\u001b[0m\u001b[1;33m)\u001b[0m\u001b[1;33m:\u001b[0m\u001b[1;33m\u001b[0m\u001b[1;33m\u001b[0m\u001b[0m\n\u001b[0;32m    229\u001b[0m     \u001b[1;32mif\u001b[0m \u001b[0m_is_path\u001b[0m\u001b[1;33m(\u001b[0m\u001b[0mname_or_buffer\u001b[0m\u001b[1;33m)\u001b[0m\u001b[1;33m:\u001b[0m\u001b[1;33m\u001b[0m\u001b[1;33m\u001b[0m\u001b[0m\n\u001b[1;32m--> 230\u001b[1;33m         \u001b[1;32mreturn\u001b[0m \u001b[0m_open_file\u001b[0m\u001b[1;33m(\u001b[0m\u001b[0mname_or_buffer\u001b[0m\u001b[1;33m,\u001b[0m \u001b[0mmode\u001b[0m\u001b[1;33m)\u001b[0m\u001b[1;33m\u001b[0m\u001b[1;33m\u001b[0m\u001b[0m\n\u001b[0m\u001b[0;32m    231\u001b[0m     \u001b[1;32melse\u001b[0m\u001b[1;33m:\u001b[0m\u001b[1;33m\u001b[0m\u001b[1;33m\u001b[0m\u001b[0m\n\u001b[0;32m    232\u001b[0m         \u001b[1;32mif\u001b[0m \u001b[1;34m'w'\u001b[0m \u001b[1;32min\u001b[0m \u001b[0mmode\u001b[0m\u001b[1;33m:\u001b[0m\u001b[1;33m\u001b[0m\u001b[1;33m\u001b[0m\u001b[0m\n",
      "\u001b[1;32m~\\AppData\\Local\\anaconda3\\envs\\condaenv\\lib\\site-packages\\torch\\serialization.py\u001b[0m in \u001b[0;36m__init__\u001b[1;34m(self, name, mode)\u001b[0m\n\u001b[0;32m    209\u001b[0m \u001b[1;32mclass\u001b[0m \u001b[0m_open_file\u001b[0m\u001b[1;33m(\u001b[0m\u001b[0m_opener\u001b[0m\u001b[1;33m)\u001b[0m\u001b[1;33m:\u001b[0m\u001b[1;33m\u001b[0m\u001b[1;33m\u001b[0m\u001b[0m\n\u001b[0;32m    210\u001b[0m     \u001b[1;32mdef\u001b[0m \u001b[0m__init__\u001b[0m\u001b[1;33m(\u001b[0m\u001b[0mself\u001b[0m\u001b[1;33m,\u001b[0m \u001b[0mname\u001b[0m\u001b[1;33m,\u001b[0m \u001b[0mmode\u001b[0m\u001b[1;33m)\u001b[0m\u001b[1;33m:\u001b[0m\u001b[1;33m\u001b[0m\u001b[1;33m\u001b[0m\u001b[0m\n\u001b[1;32m--> 211\u001b[1;33m         \u001b[0msuper\u001b[0m\u001b[1;33m(\u001b[0m\u001b[0m_open_file\u001b[0m\u001b[1;33m,\u001b[0m \u001b[0mself\u001b[0m\u001b[1;33m)\u001b[0m\u001b[1;33m.\u001b[0m\u001b[0m__init__\u001b[0m\u001b[1;33m(\u001b[0m\u001b[0mopen\u001b[0m\u001b[1;33m(\u001b[0m\u001b[0mname\u001b[0m\u001b[1;33m,\u001b[0m \u001b[0mmode\u001b[0m\u001b[1;33m)\u001b[0m\u001b[1;33m)\u001b[0m\u001b[1;33m\u001b[0m\u001b[1;33m\u001b[0m\u001b[0m\n\u001b[0m\u001b[0;32m    212\u001b[0m \u001b[1;33m\u001b[0m\u001b[0m\n\u001b[0;32m    213\u001b[0m     \u001b[1;32mdef\u001b[0m \u001b[0m__exit__\u001b[0m\u001b[1;33m(\u001b[0m\u001b[0mself\u001b[0m\u001b[1;33m,\u001b[0m \u001b[1;33m*\u001b[0m\u001b[0margs\u001b[0m\u001b[1;33m)\u001b[0m\u001b[1;33m:\u001b[0m\u001b[1;33m\u001b[0m\u001b[1;33m\u001b[0m\u001b[0m\n",
      "\u001b[1;31mFileNotFoundError\u001b[0m: [Errno 2] No such file or directory: 'G:\\\\Projects and Work\\\\Mouse Heart Segmentation\\\\Trained Weights - 13 Mice Volumes\\\\Unet_efficientnet-b4\\\\best_score.pt'"
     ]
    }
   ],
   "source": [
    "preprocessing_fn = smp.encoders.get_preprocessing_fn(ENCODER, ENCODER_WEIGHTS)\n",
    "best_model = torch.load(BEST_WEIGHTS)"
   ]
  },
  {
   "cell_type": "code",
   "execution_count": null,
   "id": "71c53665",
   "metadata": {},
   "outputs": [],
   "source": [
    "BEST_WEIGHTS = weight_select.files[0]"
   ]
  },
  {
   "cell_type": "markdown",
   "id": "bb2dd321",
   "metadata": {},
   "source": [
    "**Select Subject**"
   ]
  },
  {
   "cell_type": "markdown",
   "id": "f88ced75",
   "metadata": {},
   "source": [
    "**Load Model**"
   ]
  },
  {
   "cell_type": "code",
   "execution_count": 8,
   "id": "3e8e1030",
   "metadata": {},
   "outputs": [
    {
     "data": {
      "application/vnd.jupyter.widget-view+json": {
       "model_id": "01e49eaf50ca4ed4b14a39232722b499",
       "version_major": 2,
       "version_minor": 0
      },
      "text/plain": [
       "Button(description='Select Weights', style=ButtonStyle())"
      ]
     },
     "metadata": {},
     "output_type": "display_data"
    }
   ],
   "source": [
    "weight_select = Button(description=\"Select Weights\")\n",
    "weight_select.on_click(select_files)\n",
    "display(weight_select)"
   ]
  },
  {
   "cell_type": "code",
   "execution_count": null,
   "id": "070f145e",
   "metadata": {},
   "outputs": [],
   "source": [
    "SUBJECT_PATH=subject_select.files[0]"
   ]
  },
  {
   "cell_type": "code",
   "execution_count": null,
   "id": "649b97ca",
   "metadata": {},
   "outputs": [],
   "source": [
    "subject_select = Button(description=\"Select Subject\")\n",
    "subject_select.on_click(select_files)\n",
    "display(subject_select)"
   ]
  },
  {
   "cell_type": "code",
   "execution_count": null,
   "id": "5e8ebe7d",
   "metadata": {},
   "outputs": [],
   "source": [
    "volume,gt_mask,affine=load_case(SUBJECT_PATH,\"\")"
   ]
  },
  {
   "cell_type": "code",
   "execution_count": null,
   "id": "be88af13",
   "metadata": {},
   "outputs": [],
   "source": [
    "SUBJECT=os.path.split(SUBJECT_PATH)[-1]"
   ]
  },
  {
   "cell_type": "code",
   "execution_count": null,
   "id": "ca9611fb",
   "metadata": {
    "scrolled": true
   },
   "outputs": [],
   "source": [
    "volume_pred_mask=predict_volume(best_model,volume,True,preprocessing_fn)   # Predict volume\n",
    "volume_pred_mask=np.round(volume_pred_mask)"
   ]
  },
  {
   "cell_type": "markdown",
   "id": "5c6394d0",
   "metadata": {},
   "source": [
    "**Predict Volume**"
   ]
  },
  {
   "cell_type": "markdown",
   "id": "87481f5c",
   "metadata": {},
   "source": [
    "**Saving predicted mask as .nii**"
   ]
  },
  {
   "cell_type": "code",
   "execution_count": null,
   "id": "227b92c0",
   "metadata": {},
   "outputs": [],
   "source": [
    "def create_folder(path):\n",
    "    if os.path.exists(path)==False:\n",
    "        os.mkdir(path)\n",
    "save_folder=os.path.split(SUBJECT_PATH)[:-1][0]\n",
    "create_folder(os.path.join(save_folder,'Output'))\n",
    "create_folder(os.path.join(save_folder,'Movie'))"
   ]
  },
  {
   "cell_type": "code",
   "execution_count": null,
   "id": "ee3183ad",
   "metadata": {},
   "outputs": [],
   "source": [
    "save_mask_nii(volume_pred_mask,affine,os.path.join(save_folder,'Output','prediction.nii.gz'))"
   ]
  },
  {
   "cell_type": "markdown",
   "id": "3c93d702",
   "metadata": {},
   "source": [
    "**Display Results - 2D**"
   ]
  },
  {
   "cell_type": "code",
   "execution_count": 14,
   "id": "b04aa03e",
   "metadata": {},
   "outputs": [],
   "source": [
    "REFERENCE_WIDTH_5MM=272"
   ]
  },
  {
   "cell_type": "code",
   "execution_count": null,
   "id": "6c48822f",
   "metadata": {},
   "outputs": [],
   "source": [
    "def calculate_dim(mask_slice):\n",
    "    thresh=mask_slice.copy()\n",
    "    thresh=thresh.astype(dtype=\"uint8\")\n",
    "    contours, hierarchy = cv2.findContours(thresh, cv2.RETR_TREE, cv2.CHAIN_APPROX_SIMPLE)\n",
    "    if len(contours)<1:\n",
    "        return 0,0\n",
    "    c = max(contours, key=cv2.contourArea)\n",
    "    drawn = np.zeros((512,512))\n",
    "    drawn=cv2.drawContours(drawn,[c],0,(1,1,1),-1)\n",
    "    x,y,w,h = cv2.boundingRect(c)\n",
    "    width = round(w/REFERENCE_WIDTH_5MM*5,3)\n",
    "    height = round(h/REFERENCE_WIDTH_5MM*5,3)\n",
    "    return width,height\n",
    "def display_2d(idx):\n",
    "  \n",
    "    \n",
    "    n = 3\n",
    "    plt.figure(figsize=(16, 16))\n",
    "    \n",
    "    w,h=(calculate_dim(volume_pred_mask[idx,:,:]))\n",
    "    title=f'Max Width: {w}, Max Height: {h}'\n",
    "    plt.subplot(1, n,1)\n",
    "    plt.xticks([])\n",
    "    plt.yticks([])\n",
    "    plt.title(title)\n",
    "    plt.imshow(draw_mask(volume[idx,:,:],volume_pred_mask[idx,:,:]),cmap=\"gray\")\n",
    "    \n",
    "    w,h=(calculate_dim(volume_pred_mask[:,idx,:]))\n",
    "    title=f'Max Width: {w}, Max Height: {h}'\n",
    "    plt.subplot(1, n,2)\n",
    "    plt.xticks([])\n",
    "    plt.yticks([])\n",
    "    plt.title(title)\n",
    "    plt.imshow(draw_mask(volume[:,idx,:],volume_pred_mask[:,idx,:]),cmap=\"gray\")\n",
    "    \n",
    "    w,h=(calculate_dim(volume_pred_mask[:,:,idx]))\n",
    "    title=f'Max Width: {w}, Max Height: {h}'\n",
    "    plt.subplot(1, n,3)\n",
    "    plt.xticks([])\n",
    "    plt.yticks([])\n",
    "    plt.title(title)\n",
    "    plt.imshow(draw_mask(volume[:,:,idx],volume_pred_mask[:,:,idx]),cmap=\"gray\")\n",
    "    \n",
    "    plt.show()\n",
    "#     visualize(\n",
    "#             Z=draw_mask(volume[idx,:,:],volume_pred_mask[idx,:,:]),\n",
    "#             Y=draw_mask(volume[:,idx,:],volume_pred_mask[:,idx,:]),\n",
    "#             X=draw_mask(volume[:,idx,:],volume_pred_mask[:,:,idx])\n",
    "#              )\n",
    "interact(display_2d,idx=widgets.IntSlider(min=0, max=512, step=1, value=255))\n"
   ]
  },
  {
   "cell_type": "markdown",
   "id": "35b2b725",
   "metadata": {},
   "source": [
    "### Calculate Heart Volume in mm3"
   ]
  },
  {
   "cell_type": "code",
   "execution_count": null,
   "id": "0efdb2cc",
   "metadata": {},
   "outputs": [],
   "source": [
    "def calculate_volume( mask_image ):\n",
    "    # Input:\n",
    "    # image = sitk.Image, mask or binary image (1 values where organ, 0 values otherwise)\n",
    "    # Output:\n",
    "    # vol = float, volume in mm3 \n",
    "    space = mask_image.GetSpacing()         # image spacing\n",
    "    voxel = np.prod(space)                  # voxel volume\n",
    "    img = sitk.GetArrayFromImage(mask_image)\n",
    "    vol = voxel*np.sum(img)\n",
    "    return vol\n",
    "v=sitk.ReadImage(os.path.join(save_folder,'Output','prediction.nii.gz'))\n",
    "print(f'Volume of mice Heart: {round(calculate_volume(v),3)} mm3')"
   ]
  },
  {
   "cell_type": "markdown",
   "id": "aa3ce23f",
   "metadata": {},
   "source": [
    "**Save GIF**"
   ]
  },
  {
   "cell_type": "code",
   "execution_count": null,
   "id": "e706a1bb",
   "metadata": {},
   "outputs": [],
   "source": [
    "def make_gif(volume,volume_pred_mask=None):\n",
    "    img_arr=[]\n",
    "    for idx in tqdm(range(volume.shape[0])):\n",
    "        Z=draw_mask(volume[idx,:,:],volume_pred_mask[idx,:,:])\n",
    "        Y=draw_mask(volume[:,idx,:],volume_pred_mask[:,idx,:])\n",
    "        X=draw_mask(volume[:,:,idx],volume_pred_mask[:,:,idx])\n",
    "#         print(X.shape,Y.shape,Z.shape)\n",
    "        stacked=np.hstack((X,Y,Z))\n",
    "        img_arr.append(stacked)\n",
    "    imageio.mimsave(os.path.join(save_folder,'Movie','movie.gif'), img_arr)\n",
    "    del img_arr\n",
    "make_gif(volume,volume_pred_mask)"
   ]
  },
  {
   "cell_type": "markdown",
   "id": "93f0e863",
   "metadata": {},
   "source": [
    "**Display Results - 3D**"
   ]
  },
  {
   "cell_type": "code",
   "execution_count": null,
   "id": "7119a32f",
   "metadata": {},
   "outputs": [],
   "source": [
    "import meshplot as mp\n",
    "from skimage.measure import marching_cubes_lewiner\n",
    "v1,f1,_,_ = marching_cubes_lewiner(volume_pred_mask)\n",
    "p = mp.plot(v1,f1, return_plot=True)"
   ]
  },
  {
   "cell_type": "code",
   "execution_count": null,
   "id": "8229467e",
   "metadata": {},
   "outputs": [],
   "source": []
  },
  {
   "cell_type": "code",
   "execution_count": null,
   "id": "4a823e10",
   "metadata": {},
   "outputs": [],
   "source": []
  },
  {
   "cell_type": "code",
   "execution_count": null,
   "id": "55574d56",
   "metadata": {},
   "outputs": [],
   "source": []
  }
 ],
 "metadata": {
  "kernelspec": {
   "display_name": "Python 3 (ipykernel)",
   "language": "python",
   "name": "python3"
  },
  "language_info": {
   "codemirror_mode": {
    "name": "ipython",
    "version": 3
   },
   "file_extension": ".py",
   "mimetype": "text/x-python",
   "name": "python",
   "nbconvert_exporter": "python",
   "pygments_lexer": "ipython3",
   "version": "3.9.7"
  }
 },
 "nbformat": 4,
 "nbformat_minor": 5
}
