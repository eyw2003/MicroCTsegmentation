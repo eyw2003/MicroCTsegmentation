{
 "cells": [
  {
   "cell_type": "code",
   "execution_count": 1,
   "id": "89b75f13",
   "metadata": {},
   "outputs": [],
   "source": [
    "%config Completer.use_jedi = False\n",
    "%config IPCompleter.greedy=True\n"
   ]
  },
  {
   "cell_type": "code",
   "execution_count": 2,
   "id": "9f0abcbc",
   "metadata": {},
   "outputs": [],
   "source": [
    "import sys\n",
    "sys.path.append(\"..\") "
   ]
  },
  {
   "cell_type": "code",
   "execution_count": 3,
   "id": "cd490cfb",
   "metadata": {},
   "outputs": [],
   "source": [
    "import numpy as np\n",
    "from PIL import Image\n",
    "import matplotlib.pyplot as plt\n",
    "import nibabel as nib\n",
    "import os\n",
    "from tqdm import tqdm\n",
    "import pandas as pd\n",
    "# import pydicom\n",
    "# from niwidgets import NiftiWidget\n",
    "import imageio\n",
    "from PIL import Image\n",
    "import cv2\n",
    "from pathlib import Path\n",
    "import glob\n",
    "from sklearn.model_selection import train_test_split\n",
    "from ipywidgets import interact, interactive, IntSlider, ToggleButtons\n",
    "from Utils.dataset_utils import *\n",
    "%matplotlib inline\n"
   ]
  },
  {
   "cell_type": "code",
   "execution_count": 4,
   "id": "313e1a2c",
   "metadata": {},
   "outputs": [
    {
     "data": {
      "text/plain": [
       "['C57-#10-MicroCT-020421 - Cardiac CT_110016-systole',\n",
       " 'C57-#6-MicroCT-020421 - Cardiac CT_110734-systole',\n",
       " 'C57-#8-MicroCT-020421 - Cardiac CT_104450-systole',\n",
       " 'C57-#9-MicroCT-020421 - Cardiac CT_105254-systole',\n",
       " 'C57-UmaControl#1-MicroCT-070120 - Cardiac CT_115114-systole',\n",
       " 'C57-UmaControl#2-MicroCT-070120 - Cardiac CT_115916-systole',\n",
       " 'C57-UmaControl#3-MicroCT-070120 - Cardiac CT_121937-systole',\n",
       " 'LAD-#11-MicroCT-050321 - Cardiac CT_133143-systole',\n",
       " 'LAD-#6-MicroCT-050321 - Cardiac CT_125739-systole',\n",
       " 'LAD-Uma#1-MicroCT-030519 - Cardiac CT_133621-systole',\n",
       " 'TAC-#5-MicroCT-050321 - Cardiac CT_120528-systole',\n",
       " 'TAC-#8-MicroCT-050321 - Cardiac CT_124052-systole',\n",
       " 'TAC-U2-1-MicroCT100620 - Cardiac CT_100920-systole']"
      ]
     },
     "execution_count": 4,
     "metadata": {},
     "output_type": "execute_result"
    }
   ],
   "source": [
    "BASE_PATH = Path('G:\\Projects and Work\\Mouse Heart Segmentation\\Mice_CT_Dataset')\n",
    "LABELS_TO_KEEP=[1]\n",
    "SUBJECTS = os.listdir(BASE_PATH/'labels')\n",
    "SUBJECTS"
   ]
  },
  {
   "cell_type": "code",
   "execution_count": 5,
   "id": "2cee6671",
   "metadata": {},
   "outputs": [],
   "source": [
    "def convert_labels(label_volume):\n",
    "    new_labels=np.zeros(label_volume.shape)\n",
    "    for lbl in np.unique(label_volume):\n",
    "        if lbl in LABELS_TO_KEEP:\n",
    "            new_labels[np.where(label_volume==lbl)]=1\n",
    "    return new_labels\n",
    "        \n"
   ]
  },
  {
   "cell_type": "code",
   "execution_count": 6,
   "id": "aeb3746a",
   "metadata": {},
   "outputs": [
    {
     "name": "stdout",
     "output_type": "stream",
     "text": [
      "G:\\Projects and Work\\Mouse Heart Segmentation\\Mice_CT_Dataset\\labels\\LAD-#11-MicroCT-050321 - Cardiac CT_133143-systole\\LAD-#11-MicroCT-050321 - Cardiac CT_133143-systole_label.nii.gz\n"
     ]
    },
    {
     "ename": "AttributeError",
     "evalue": "'NoneType' object has no attribute 'shape'",
     "output_type": "error",
     "traceback": [
      "\u001b[1;31m---------------------------------------------------------------------------\u001b[0m",
      "\u001b[1;31mAttributeError\u001b[0m                            Traceback (most recent call last)",
      "\u001b[1;32mC:\\Users\\SHAHER~1\\AppData\\Local\\Temp/ipykernel_3744/1831461447.py\u001b[0m in \u001b[0;36m<module>\u001b[1;34m\u001b[0m\n\u001b[0;32m      2\u001b[0m \u001b[0mimage\u001b[0m\u001b[1;33m,\u001b[0m\u001b[0mlabel\u001b[0m\u001b[1;33m,\u001b[0m\u001b[0maffine\u001b[0m\u001b[1;33m=\u001b[0m\u001b[0mload_case\u001b[0m\u001b[1;33m(\u001b[0m\u001b[0mos\u001b[0m\u001b[1;33m.\u001b[0m\u001b[0mpath\u001b[0m\u001b[1;33m.\u001b[0m\u001b[0mjoin\u001b[0m\u001b[1;33m(\u001b[0m\u001b[0mBASE_PATH\u001b[0m\u001b[1;33m,\u001b[0m\u001b[1;34m'volumes'\u001b[0m\u001b[1;33m,\u001b[0m\u001b[0mSUBJECTS\u001b[0m\u001b[1;33m[\u001b[0m\u001b[0midx\u001b[0m\u001b[1;33m]\u001b[0m\u001b[1;33m,\u001b[0m\u001b[1;34mf'{SUBJECTS[idx]}_volume.nii'\u001b[0m\u001b[1;33m)\u001b[0m\u001b[1;33m,\u001b[0m\u001b[0mos\u001b[0m\u001b[1;33m.\u001b[0m\u001b[0mpath\u001b[0m\u001b[1;33m.\u001b[0m\u001b[0mjoin\u001b[0m\u001b[1;33m(\u001b[0m\u001b[0mBASE_PATH\u001b[0m\u001b[1;33m,\u001b[0m\u001b[1;34m'labels'\u001b[0m\u001b[1;33m,\u001b[0m\u001b[0mSUBJECTS\u001b[0m\u001b[1;33m[\u001b[0m\u001b[0midx\u001b[0m\u001b[1;33m]\u001b[0m\u001b[1;33m,\u001b[0m\u001b[1;34mf'{SUBJECTS[idx]}_label.nii.gz'\u001b[0m\u001b[1;33m)\u001b[0m\u001b[1;33m)\u001b[0m\u001b[1;33m\u001b[0m\u001b[1;33m\u001b[0m\u001b[0m\n\u001b[0;32m      3\u001b[0m \u001b[1;31m# new_label=convert_labels(label)\u001b[0m\u001b[1;33m\u001b[0m\u001b[1;33m\u001b[0m\u001b[0m\n\u001b[1;32m----> 4\u001b[1;33m \u001b[0mprint\u001b[0m\u001b[1;33m(\u001b[0m\u001b[0midx\u001b[0m\u001b[1;33m,\u001b[0m \u001b[0mimage\u001b[0m\u001b[1;33m.\u001b[0m\u001b[0mshape\u001b[0m \u001b[1;33m,\u001b[0m\u001b[0mlabel\u001b[0m\u001b[1;33m.\u001b[0m\u001b[0mshape\u001b[0m\u001b[1;33m)\u001b[0m\u001b[1;33m\u001b[0m\u001b[1;33m\u001b[0m\u001b[0m\n\u001b[0m",
      "\u001b[1;31mAttributeError\u001b[0m: 'NoneType' object has no attribute 'shape'"
     ]
    }
   ],
   "source": [
    "idx = 7\n",
    "image,label,affine=load_case(os.path.join(BASE_PATH,'volumes',SUBJECTS[idx],f'{SUBJECTS[idx]}_volume.nii'),os.path.join(BASE_PATH,'labels',SUBJECTS[idx],f'{SUBJECTS[idx]}_label.nii.gz'))\n",
    "# new_label=convert_labels(label)\n",
    "print(idx, image.shape ,label.shape)"
   ]
  },
  {
   "cell_type": "code",
   "execution_count": null,
   "id": "768e22a5",
   "metadata": {},
   "outputs": [],
   "source": [
    "image=normalize(image)"
   ]
  },
  {
   "cell_type": "code",
   "execution_count": null,
   "id": "f295eb57",
   "metadata": {},
   "outputs": [],
   "source": [
    "# visualization functions\n",
    "def explore_3dimage(layer):\n",
    "    plt.figure(figsize=(20, 10))\n",
    "#     plt.subplot(1, 2, 1)\n",
    "    plt.imshow(draw_mask(image[:, layer,:],label[:,layer,:]));\n",
    "#     plt.subplot(1, 2, 2)\n",
    "#     plt.imshow(image[:, layer,:], cmap='gray');\n",
    "#     plt.title('Explore Layers of Brain MRI', fontsize=20)\n",
    "    plt.axis('off')\n",
    "    return layer\n",
    "def draw_mask(image,mask=None):\n",
    "   \n",
    "    rgb=np.zeros([image.shape[0],image.shape[1],3])\n",
    "    rgb[:,:,0]=image\n",
    "    rgb[:,:,1]=image\n",
    "    rgb[:,:,2]=image\n",
    "    \n",
    "    rgb[np.where(mask==1)]=(255,0,0)\n",
    "    \n",
    "#     rgb = imageio.segmentation.mark_boundaries(rgb, mask, mode='thick',color=(0,0,1))\n",
    "#     rgb = segmentation.mark_boundaries(rgb, tumor, mode='thick',color=(1,0,0))\n",
    "#     rgb=rgb*255\n",
    "#     rgb=rgb.astype(np.uint8)\n",
    "    return rgb\n",
    "def make_plots(images,masks=None):\n",
    "    \"\"\"PLot images in one row.\"\"\"\n",
    "    n = len(images)\n",
    "    \n",
    "    plt.figure(figsize=(20, 10))\n",
    "\n",
    "    for i, (image) in enumerate(images):\n",
    "        plt.subplot(1, n*2, i + 1)\n",
    "        plt.xticks([])\n",
    "        plt.yticks([])\n",
    "        if masks is not None:\n",
    "            rgb=draw_mask(image,masks[i])\n",
    "            print(rgb.shape)\n",
    "        else:\n",
    "            rgb=image\n",
    "        plt.imshow(rgb,cmap=\"gray\")\n",
    "\n",
    "    plt.show()\n"
   ]
  },
  {
   "cell_type": "code",
   "execution_count": null,
   "id": "88412707",
   "metadata": {},
   "outputs": [],
   "source": [
    "make_plots([image[:,:,200]],[label[:,:,200]])"
   ]
  },
  {
   "cell_type": "code",
   "execution_count": null,
   "id": "2feeb2c9",
   "metadata": {},
   "outputs": [],
   "source": [
    "\n",
    "# Run the ipywidgets interact() function to explore the data\n",
    "\n",
    "interact(explore_3dimage, layer=(2, image.shape[1] - 1));"
   ]
  },
  {
   "cell_type": "code",
   "execution_count": 16,
   "id": "fe30b91d",
   "metadata": {},
   "outputs": [],
   "source": [
    "# Generating 2d \n",
    "DATASET_2D_BASE_PATH=Path(r'G:\\Projects and Work\\Mouse Heart Segmentation\\Mice_CT_Dataset\\LAD Axials')\n"
   ]
  },
  {
   "cell_type": "code",
   "execution_count": 11,
   "id": "d00cc768",
   "metadata": {},
   "outputs": [],
   "source": [
    "def make_dir(path):\n",
    "    print(path)\n",
    "    if os.path.exists(path)==False:\n",
    "        os.mkdir(path)\n"
   ]
  },
  {
   "cell_type": "code",
   "execution_count": 12,
   "id": "60cf5581",
   "metadata": {},
   "outputs": [],
   "source": [
    "# test train split of volumes\n",
    "# train_vol,test_vol=train_test_split(SUBJECTS,test_size=0.25,random_state=5)"
   ]
  },
  {
   "cell_type": "code",
   "execution_count": 13,
   "id": "6a37434a",
   "metadata": {},
   "outputs": [
    {
     "data": {
      "text/plain": [
       "['LAD-#6-MicroCT-050321 - Cardiac CT_125739-systole',\n",
       " 'LAD-Uma#1-MicroCT-030519 - Cardiac CT_133621-systole']"
      ]
     },
     "execution_count": 13,
     "metadata": {},
     "output_type": "execute_result"
    }
   ],
   "source": [
    "train_vol=[\n",
    "    'LAD-#6-MicroCT-050321 - Cardiac CT_125739-systole',\n",
    "    'LAD-Uma#1-MicroCT-030519 - Cardiac CT_133621-systole'\n",
    "  ]\n",
    "train_vol"
   ]
  },
  {
   "cell_type": "code",
   "execution_count": 14,
   "id": "0f3f4130",
   "metadata": {},
   "outputs": [
    {
     "data": {
      "text/plain": [
       "['LAD-#11-MicroCT-050321 - Cardiac CT_133143-systole']"
      ]
     },
     "execution_count": 14,
     "metadata": {},
     "output_type": "execute_result"
    }
   ],
   "source": [
    "test_vol=[\n",
    "    'LAD-#11-MicroCT-050321 - Cardiac CT_133143-systole'\n",
    "    ]\n",
    "test_vol"
   ]
  },
  {
   "cell_type": "code",
   "execution_count": 15,
   "id": "aa18e14c",
   "metadata": {},
   "outputs": [],
   "source": [
    "def standardize(image):\n",
    "    centered = image-np.mean(image)\n",
    "    if np.std(centered) != 0:\n",
    "        centered = centered/np.std(centered)\n",
    "    return centered\n",
    "def convert_2d(volume_image,volume_label,volume_name,destination_path):\n",
    "    make_dir(os.path.join(destination_path,'images'))\n",
    "    make_dir(os.path.join(destination_path,'masks'))\n",
    "    H,W,D=volume_image.shape\n",
    "    for i in tqdm(range(H)):\n",
    "        img=normalize(volume_image[i,:,:])\n",
    "        img = img*255\n",
    "        img =img.astype('uint8')\n",
    "        cv2.imwrite(os.path.join(destination_path,'images',volume_name+\"_Sagital_\"+str(i)+\".png\"),img)\n",
    "        cv2.imwrite(os.path.join(destination_path,'masks',volume_name+\"_Sagital_\"+str(i)+\".png\"),volume_label[i,:,:])\n",
    "    for i in tqdm(range(W)):\n",
    "        img=normalize(volume_image[:,i,:])\n",
    "        img = img*255\n",
    "        img =img.astype('uint8')\n",
    "        cv2.imwrite(os.path.join(destination_path,'images',volume_name+\"_Coronal_\"+str(i)+\".png\"),img)\n",
    "        cv2.imwrite(os.path.join(destination_path,'masks',volume_name+\"_Coronal_\"+str(i)+\".png\"),volume_label[:,i,:])\n",
    "\n",
    "    for i in tqdm(range(D)):\n",
    "        img=normalize(volume_image[:,:,i])\n",
    "        img = img*255\n",
    "        img =img.astype('uint8')\n",
    "        cv2.imwrite(os.path.join(destination_path,'images',volume_name+\"_Transversal_\"+str(i)+\".png\"),img)\n",
    "        cv2.imwrite(os.path.join(destination_path,'masks',volume_name+\"_Transversal_\"+str(i)+\".png\"),volume_label[:,:,i])"
   ]
  },
  {
   "cell_type": "code",
   "execution_count": 18,
   "id": "28f19fe3",
   "metadata": {},
   "outputs": [
    {
     "name": "stdout",
     "output_type": "stream",
     "text": [
      "G:\\Projects and Work\\Mouse Heart Segmentation\\Mice_CT_Dataset\\labels\\LAD-#11-MicroCT-050321 - Cardiac CT_133143-systole\\LAD-#11-MicroCT-050321 - Cardiac CT_133143-systole_label.nii.gz\n",
      "(512, 512, 512)\n",
      "G:\\Projects and Work\\Mouse Heart Segmentation\\Mice_CT_Dataset\\LAD Axials\\val\\images\n",
      "G:\\Projects and Work\\Mouse Heart Segmentation\\Mice_CT_Dataset\\LAD Axials\\val\\masks\n"
     ]
    },
    {
     "name": "stderr",
     "output_type": "stream",
     "text": [
      "100%|████████████████████████████████████████████████████████████████████████████████| 512/512 [00:13<00:00, 38.29it/s]\n",
      "100%|████████████████████████████████████████████████████████████████████████████████| 512/512 [00:10<00:00, 48.63it/s]\n",
      "100%|████████████████████████████████████████████████████████████████████████████████| 512/512 [00:06<00:00, 74.74it/s]\n"
     ]
    }
   ],
   "source": [
    "# Generating 2d slices of training \n",
    "for subject_name in test_vol:\n",
    "    image_path = os.path.join(BASE_PATH,'volumes',subject_name,f'{subject_name}_volume.nii')\n",
    "    label_path=os.path.join(BASE_PATH,'labels',subject_name,f'{subject_name}_label.nii')\n",
    "    if os.path.exists(label_path)==False:\n",
    "        label_path=os.path.join(BASE_PATH,'labels',subject_name,f'{subject_name}_label.nii.gz')\n",
    "    \n",
    "    volume_image,volume_label,affine = load_case(image_path,label_path)\n",
    "    print(volume_image.shape)\n",
    "    convert_2d(volume_image,volume_label,subject_name,DATASET_2D_BASE_PATH/'val')"
   ]
  },
  {
   "cell_type": "code",
   "execution_count": 19,
   "id": "a66a0bfd",
   "metadata": {},
   "outputs": [
    {
     "data": {
      "text/plain": [
       "<BarContainer object of 2 artists>"
      ]
     },
     "execution_count": 19,
     "metadata": {},
     "output_type": "execute_result"
    },
    {
     "data": {
      "image/png": "[encoded data removed]",
      "text/plain": [
       "<Figure size 432x288 with 1 Axes>"
      ]
     },
     "metadata": {
      "needs_background": "light"
     },
     "output_type": "display_data"
    }
   ],
   "source": [
    "plt.bar(['train','val'],[len(os.listdir(DATASET_2D_BASE_PATH/'train'/'images')),len(os.listdir(DATASET_2D_BASE_PATH/'val'/'images'))])"
   ]
  },
  {
   "cell_type": "code",
   "execution_count": null,
   "id": "44131791",
   "metadata": {},
   "outputs": [],
   "source": []
  }
 ],
 "metadata": {
  "kernelspec": {
   "display_name": "Python 3 (ipykernel)",
   "language": "python",
   "name": "python3"
  },
  "language_info": {
   "codemirror_mode": {
    "name": "ipython",
    "version": 3
   },
   "file_extension": ".py",
   "mimetype": "text/x-python",
   "name": "python",
   "nbconvert_exporter": "python",
   "pygments_lexer": "ipython3",
   "version": "3.9.7"
  }
 },
 "nbformat": 4,
 "nbformat_minor": 5
}
