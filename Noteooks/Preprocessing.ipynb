{
 "cells": [
  {
   "cell_type": "code",
   "execution_count": 4,
   "id": "0264ae1d",
   "metadata": {},
   "outputs": [],
   "source": [
    "%config Completer.use_jedi = False\n",
    "%config IPCompleter.greedy=True\n"
   ]
  },
  {
   "cell_type": "code",
   "execution_count": 5,
   "id": "f1d9d8d1",
   "metadata": {},
   "outputs": [],
   "source": [
    "# !pip3 install opencv-python"
   ]
  },
  {
   "cell_type": "code",
   "execution_count": 6,
   "id": "15adcefe",
   "metadata": {},
   "outputs": [],
   "source": [
    "import os\n",
    "import numpy as np\n",
    "import pandas as pd\n",
    "import matplotlib.pyplot as plt\n",
    "import pydicom\n",
    "from niwidgets import NiftiWidget\n",
    "import nibabel as nib\n",
    "import imageio\n",
    "from PIL import Image\n",
    "import cv2\n",
    "from pathlib import Path\n",
    "import glob"
   ]
  },
  {
   "cell_type": "code",
   "execution_count": 7,
   "id": "12ed7f9a",
   "metadata": {},
   "outputs": [
    {
     "data": {
      "text/plain": [
       "['TAC-#3-MicroCT-050321 - Cardiac CT_115640-diastole',\n",
       " 'TAC-#3-MicroCT-050321 - Cardiac CT_115640-systole',\n",
       " 'TAC-#5-MicroCT-050321 - Cardiac CT_120528-diastole',\n",
       " 'TAC-#5-MicroCT-050321 - Cardiac CT_120528-systole',\n",
       " 'TAC-#8-MicroCT-050321 - Cardiac CT_124052-diastole',\n",
       " 'TAC-#8-MicroCT-050321 - Cardiac CT_124052-systole',\n",
       " 'TAC-U2-1-MicroCT100620 - Cardiac CT_100920-diastole',\n",
       " 'TAC-U2-1-MicroCT100620 - Cardiac CT_100920-systole',\n",
       " 'TAC-U2-2-MicroCT100620 - Cardiac CT_101711-diastole',\n",
       " 'TAC-U2-2-MicroCT100620 - Cardiac CT_101711-systole',\n",
       " 'TAC-U2-3-MicroCT100620 - Cardiac CT_102620-diastole',\n",
       " 'TAC-U2-3-MicroCT100620 - Cardiac CT_102620-systole']"
      ]
     },
     "execution_count": 7,
     "metadata": {},
     "output_type": "execute_result"
    }
   ],
   "source": [
    "BASE_PATH=r'G:\\Projects and Work\\Mouse Heart Segmentation\\Dataset\\TAC'\n",
    "subjects = os.listdir(BASE_PATH)\n",
    "subjects"
   ]
  },
  {
   "cell_type": "code",
   "execution_count": 8,
   "id": "b4dcf0d7",
   "metadata": {},
   "outputs": [],
   "source": [
    "def make_dir(path):\n",
    "    if os.path.exists(path)==False:\n",
    "        os.mkdir(path)\n",
    "\n",
    "\n",
    "def normalize(data):\n",
    "    data=(data-np.min(data))/(np.max(data)-np.min(data))\n",
    "    return data\n",
    "    \n",
    "def save_axials(volume,axial='X',path=r'G:\\Projects and Work\\Mouse Heart Segmentation\\Dataset\\2D Axials'):\n",
    "    X,Y,Z=volume.shape\n",
    "    make_dir(os.path.join(path,subject))\n",
    "    make_dir(os.path.join(path,subject,axial))\n",
    "    m={'X':X,\n",
    "      'Y':Y,\n",
    "      'Z':Z}\n",
    "    fourcc = cv2.VideoWriter_fourcc(*'mp4v')\n",
    "\n",
    "    writer = cv2.VideoWriter(os.path.join(path,subject,axial,'slides.mp4'), \n",
    "                         fourcc,\n",
    "                         30, (512,512))\n",
    "    for i in range(m[axial]):\n",
    "        if axial=='X':\n",
    "            img=volume[i,:,:].copy()\n",
    "        elif axial=='Y':\n",
    "            img=volume[:,i,:].copy()\n",
    "        else:\n",
    "            img=volume[:,:,i].copy()\n",
    "        img = img*255\n",
    "        img =img.astype('uint8')\n",
    "        cv2.imwrite(os.path.join(path,subject,axial,str(i)+\"_\"+axial+\".jpg\"),img)\n",
    "        writer.write(cv2.cvtColor(img,cv2.COLOR_GRAY2RGB))\n",
    "    writer.release()"
   ]
  },
  {
   "cell_type": "code",
   "execution_count": 11,
   "id": "706479a9",
   "metadata": {},
   "outputs": [
    {
     "name": "stdout",
     "output_type": "stream",
     "text": [
      "TAC-#3-MicroCT-050321 - Cardiac CT_115640-diastole\n",
      "TAC-#3-MicroCT-050321 - Cardiac CT_115640-systole\n",
      "TAC-#5-MicroCT-050321 - Cardiac CT_120528-diastole\n",
      "TAC-#5-MicroCT-050321 - Cardiac CT_120528-systole\n",
      "TAC-#8-MicroCT-050321 - Cardiac CT_124052-diastole\n",
      "TAC-#8-MicroCT-050321 - Cardiac CT_124052-systole\n",
      "TAC-U2-1-MicroCT100620 - Cardiac CT_100920-diastole\n",
      "TAC-U2-1-MicroCT100620 - Cardiac CT_100920-systole\n",
      "TAC-U2-2-MicroCT100620 - Cardiac CT_101711-diastole\n",
      "TAC-U2-2-MicroCT100620 - Cardiac CT_101711-systole\n",
      "TAC-U2-3-MicroCT100620 - Cardiac CT_102620-diastole\n",
      "TAC-U2-3-MicroCT100620 - Cardiac CT_102620-systole\n"
     ]
    }
   ],
   "source": [
    "for subject in subjects:\n",
    "    print(subject)\n",
    "    files = []\n",
    "    for file in os.listdir(os.path.join(BASE_PATH,subject)):\n",
    "        if file.endswith(\".dcm\"):\n",
    "            files.append(os.path.join(BASE_PATH,subject,file))\n",
    "    volume = np.zeros([len(files),512,512])\n",
    "    \n",
    "    for i in range(len(files)):\n",
    "        if str.endswith(files[i],\"dcm\"):\n",
    "            dcm=pydicom.read_file(os.path.join(BASE_PATH,subject,files[i]))\n",
    "            rescale=(dcm.RescaleIntercept)\n",
    "            slope=dcm.RescaleSlope\n",
    "            img=dcm.pixel_array\n",
    "            volume[i,:,:]=img\n",
    "            i+=1\n",
    "    volume =volume *slope + (rescale)\n",
    "    save_axials(normalize(volume),axial='X')\n",
    "    save_axials(normalize(volume),axial='Y')\n",
    "    save_axials(normalize(volume),axial='Z')\n",
    "    "
   ]
  },
  {
   "cell_type": "code",
   "execution_count": 9,
   "id": "d18f6a1d",
   "metadata": {},
   "outputs": [],
   "source": [
    "nib_seg = nib.load('abc.nii.gz').get_fdata()"
   ]
  },
  {
   "cell_type": "code",
   "execution_count": null,
   "id": "d7437df0",
   "metadata": {},
   "outputs": [],
   "source": []
  },
  {
   "cell_type": "code",
   "execution_count": 10,
   "id": "98b8943a",
   "metadata": {},
   "outputs": [
    {
     "ename": "NameError",
     "evalue": "name 'volume' is not defined",
     "output_type": "error",
     "traceback": [
      "\u001b[1;31m---------------------------------------------------------------------------\u001b[0m",
      "\u001b[1;31mNameError\u001b[0m                                 Traceback (most recent call last)",
      "\u001b[1;32m<ipython-input-10-5a6b31a2974e>\u001b[0m in \u001b[0;36m<module>\u001b[1;34m\u001b[0m\n\u001b[1;32m----> 1\u001b[1;33m \u001b[0mplt\u001b[0m\u001b[1;33m.\u001b[0m\u001b[0mimshow\u001b[0m\u001b[1;33m(\u001b[0m\u001b[0mvolume\u001b[0m\u001b[1;33m[\u001b[0m\u001b[1;33m:\u001b[0m\u001b[1;33m,\u001b[0m\u001b[1;36m13\u001b[0m\u001b[1;33m,\u001b[0m\u001b[1;33m:\u001b[0m\u001b[1;33m]\u001b[0m\u001b[1;33m,\u001b[0m\u001b[0mcmap\u001b[0m\u001b[1;33m=\u001b[0m\u001b[1;34m\"gray\"\u001b[0m\u001b[1;33m)\u001b[0m\u001b[1;33m\u001b[0m\u001b[1;33m\u001b[0m\u001b[0m\n\u001b[0m",
      "\u001b[1;31mNameError\u001b[0m: name 'volume' is not defined"
     ]
    }
   ],
   "source": [
    "plt.imshow(volume[:,13,:],cmap=\"gray\")"
   ]
  },
  {
   "cell_type": "code",
   "execution_count": 11,
   "id": "61802993",
   "metadata": {},
   "outputs": [],
   "source": [
    "# from skimage import segmentation\n",
    "def draw_mask(image,mask=None):\n",
    "   \n",
    "    rgb=np.ones([image.shape[0],image.shape[1],3])\n",
    "    rgb[:,:,0]=image\n",
    "    rgb[:,:,1]=image\n",
    "    rgb[:,:,2]=image\n",
    "\n",
    "    liver=mask.copy()\n",
    "    liver[np.where(liver==2)]=0\n",
    "    tumor=mask.copy()\n",
    "    tumor[np.where(tumor==1)]=0\n",
    "    tumor[np.where(tumor==2)]=1\n",
    "    \n",
    "    rgb = segmentation.mark_boundaries(rgb, liver, mode='thick',color=(0,0,1))\n",
    "    rgb = segmentation.mark_boundaries(rgb, tumor, mode='thick',color=(1,0,0))\n",
    "    rgb=rgb*255\n",
    "    rgb=rgb.astype(np.uint8)\n",
    "    return rgb\n",
    "\n",
    "def show_slice_window(slice, level, window):\n",
    "   max = level + window/2\n",
    "   min = level - window/2\n",
    "   slice = slice.clip(min,max)\n",
    "   plt.figure()\n",
    "   plt.imshow(slice.T, cmap=\"gray\", origin=\"lower\")\n",
    "   plt.savefig('L'+str(level)+'W'+str(window))\n",
    "    \n",
    "def make_plots(images,masks=None):\n",
    "    \"\"\"PLot images in one row.\"\"\"\n",
    "    n = len(images)\n",
    "    \n",
    "    plt.figure(figsize=(40, 100))\n",
    "\n",
    "    for i, (image) in enumerate(images):\n",
    "        plt.subplot(1, n*2, i + 1)\n",
    "        plt.xticks([])\n",
    "        plt.yticks([])\n",
    "        if masks is not None:\n",
    "            rgb=draw_mask(image,masks[i])\n",
    "        else:\n",
    "            rgb=image\n",
    "        plt.imshow(rgb,cmap=\"gray\")\n",
    "\n",
    "    plt.show()\n",
    "def visualize(volume,mask=None,num_images=8,axis='Z'):\n",
    "    X,Y,Z=volume.shape\n",
    "    if axis=='Z':\n",
    "        axials=[volume[int(i),:,:] for i in (np.linspace(0,Z,num_images,endpoint=False))]\n",
    "        if mask is not None:\n",
    "            segments=[mask[:,:,int(i)] for i in (np.linspace(0,Z,num_images,endpoint=False))]\n",
    "        else:\n",
    "            segments=None\n",
    "        make_plots(axials,segments)\n",
    "\n",
    "def make_gif(images,masks=None):\n",
    "    img_arr=[]\n",
    "    for i in range(len(images)):\n",
    "        if masks is not None:\n",
    "            rgb=draw_mask(images[i],masks[i])\n",
    "        else:\n",
    "            rgb=images[i].copy()\n",
    "        img_arr.append(rgb)\n",
    "    imageio.mimsave('movie.gif', img_arr)\n"
   ]
  },
  {
   "cell_type": "code",
   "execution_count": 12,
   "id": "78f946ab",
   "metadata": {},
   "outputs": [],
   "source": [
    "# show_slice_window(nib_seg[0,:,:],0,150)"
   ]
  },
  {
   "cell_type": "code",
   "execution_count": 17,
   "id": "9f8bf4b5",
   "metadata": {},
   "outputs": [],
   "source": [
    "visualize((nib_seg),None,4,axis='X')"
   ]
  },
  {
   "cell_type": "code",
   "execution_count": 30,
   "id": "9e331fcc",
   "metadata": {},
   "outputs": [
    {
     "ename": "MemoryError",
     "evalue": "Unable to allocate 988. MiB for an array with shape (494, 512, 512) and data type float64",
     "output_type": "error",
     "traceback": [
      "\u001b[1;31m---------------------------------------------------------------------------\u001b[0m",
      "\u001b[1;31mMemoryError\u001b[0m                               Traceback (most recent call last)",
      "\u001b[1;32m<ipython-input-30-0dffe6785d68>\u001b[0m in \u001b[0;36m<module>\u001b[1;34m\u001b[0m\n\u001b[0;32m      1\u001b[0m \u001b[0mX\u001b[0m\u001b[1;33m,\u001b[0m\u001b[0mY\u001b[0m\u001b[1;33m,\u001b[0m\u001b[0mZ\u001b[0m\u001b[1;33m=\u001b[0m\u001b[0mvolume\u001b[0m\u001b[1;33m.\u001b[0m\u001b[0mshape\u001b[0m\u001b[1;33m\u001b[0m\u001b[1;33m\u001b[0m\u001b[0m\n\u001b[0;32m      2\u001b[0m \u001b[0maxials\u001b[0m\u001b[1;33m=\u001b[0m\u001b[1;33m[\u001b[0m\u001b[0mvolume\u001b[0m\u001b[1;33m[\u001b[0m\u001b[0mint\u001b[0m\u001b[1;33m(\u001b[0m\u001b[0mi\u001b[0m\u001b[1;33m)\u001b[0m\u001b[1;33m:\u001b[0m\u001b[1;33m,\u001b[0m\u001b[1;33m:\u001b[0m\u001b[1;33m]\u001b[0m \u001b[1;32mfor\u001b[0m \u001b[0mi\u001b[0m \u001b[1;32min\u001b[0m \u001b[0mrange\u001b[0m\u001b[1;33m(\u001b[0m\u001b[1;36m0\u001b[0m\u001b[1;33m,\u001b[0m\u001b[0mX\u001b[0m\u001b[1;33m)\u001b[0m\u001b[1;33m]\u001b[0m\u001b[1;33m\u001b[0m\u001b[1;33m\u001b[0m\u001b[0m\n\u001b[1;32m----> 3\u001b[1;33m \u001b[0mmake_gif\u001b[0m\u001b[1;33m(\u001b[0m\u001b[0maxials\u001b[0m\u001b[1;33m,\u001b[0m\u001b[1;32mNone\u001b[0m\u001b[1;33m)\u001b[0m\u001b[1;33m\u001b[0m\u001b[1;33m\u001b[0m\u001b[0m\n\u001b[0m",
      "\u001b[1;32m<ipython-input-28-32106b270534>\u001b[0m in \u001b[0;36mmake_gif\u001b[1;34m(images, masks)\u001b[0m\n\u001b[0;32m     51\u001b[0m             \u001b[0mrgb\u001b[0m\u001b[1;33m=\u001b[0m\u001b[0mdraw_mask\u001b[0m\u001b[1;33m(\u001b[0m\u001b[0mimages\u001b[0m\u001b[1;33m[\u001b[0m\u001b[0mi\u001b[0m\u001b[1;33m]\u001b[0m\u001b[1;33m,\u001b[0m\u001b[0mmasks\u001b[0m\u001b[1;33m[\u001b[0m\u001b[0mi\u001b[0m\u001b[1;33m]\u001b[0m\u001b[1;33m)\u001b[0m\u001b[1;33m\u001b[0m\u001b[1;33m\u001b[0m\u001b[0m\n\u001b[0;32m     52\u001b[0m         \u001b[1;32melse\u001b[0m\u001b[1;33m:\u001b[0m\u001b[1;33m\u001b[0m\u001b[1;33m\u001b[0m\u001b[0m\n\u001b[1;32m---> 53\u001b[1;33m             \u001b[0mrgb\u001b[0m\u001b[1;33m=\u001b[0m\u001b[0mimages\u001b[0m\u001b[1;33m[\u001b[0m\u001b[0mi\u001b[0m\u001b[1;33m]\u001b[0m\u001b[1;33m.\u001b[0m\u001b[0mcopy\u001b[0m\u001b[1;33m(\u001b[0m\u001b[1;33m)\u001b[0m\u001b[1;33m\u001b[0m\u001b[1;33m\u001b[0m\u001b[0m\n\u001b[0m\u001b[0;32m     54\u001b[0m         \u001b[0mimg_arr\u001b[0m\u001b[1;33m.\u001b[0m\u001b[0mappend\u001b[0m\u001b[1;33m(\u001b[0m\u001b[0mrgb\u001b[0m\u001b[1;33m)\u001b[0m\u001b[1;33m\u001b[0m\u001b[1;33m\u001b[0m\u001b[0m\n\u001b[0;32m     55\u001b[0m     \u001b[0mimageio\u001b[0m\u001b[1;33m.\u001b[0m\u001b[0mmimsave\u001b[0m\u001b[1;33m(\u001b[0m\u001b[1;34m'movie.gif'\u001b[0m\u001b[1;33m,\u001b[0m \u001b[0mimg_arr\u001b[0m\u001b[1;33m)\u001b[0m\u001b[1;33m\u001b[0m\u001b[1;33m\u001b[0m\u001b[0m\n",
      "\u001b[1;31mMemoryError\u001b[0m: Unable to allocate 988. MiB for an array with shape (494, 512, 512) and data type float64"
     ]
    }
   ],
   "source": [
    "X,Y,Z=volume.shape\n",
    "axials=[volume[int(i):,:] for i in range(0,X)]\n",
    "make_gif(axials,None)"
   ]
  },
  {
   "cell_type": "code",
   "execution_count": null,
   "id": "b78aa353",
   "metadata": {},
   "outputs": [],
   "source": []
  }
 ],
 "metadata": {
  "kernelspec": {
   "display_name": "Python 3 (ipykernel)",
   "language": "python",
   "name": "python3"
  },
  "language_info": {
   "codemirror_mode": {
    "name": "ipython",
    "version": 3
   },
   "file_extension": ".py",
   "mimetype": "text/x-python",
   "name": "python",
   "nbconvert_exporter": "python",
   "pygments_lexer": "ipython3",
   "version": "3.9.7"
  }
 },
 "nbformat": 4,
 "nbformat_minor": 5
}
