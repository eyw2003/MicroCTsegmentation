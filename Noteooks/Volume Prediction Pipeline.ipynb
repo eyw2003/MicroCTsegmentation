{
 "cells": [
  {
   "cell_type": "markdown",
   "id": "e71921c8",
   "metadata": {},
   "source": [
    "### Import all packages"
   ]
  },
  {
   "cell_type": "code",
   "execution_count": 1,
   "id": "334f76dd",
   "metadata": {},
   "outputs": [],
   "source": [
    "import sys\n",
    "sys.path.append(\"..\") "
   ]
  },
  {
   "cell_type": "code",
   "execution_count": 2,
   "id": "0ea764a6",
   "metadata": {},
   "outputs": [],
   "source": [
    "import cv2\n",
    "import pandas as pd\n",
    "import numpy as np\n",
    "import matplotlib.pyplot as plt\n",
    "import torch\n",
    "from pathlib import Path\n",
    "import os\n",
    "import torch.cuda\n",
    "import albumentations as albu\n",
    "import segmentation_models_pytorch as smp\n",
    "from  segmentation_models_pytorch.utils.base import Metric\n",
    "from segmentation_models_pytorch.base.modules import Activation\n",
    "from collections import defaultdict\n",
    "import nibabel as nib\n",
    "from tqdm import tqdm\n",
    "from Utils.dataset_utils import *\n",
    "from Utils.prediction_utils import *\n"
   ]
  },
  {
   "cell_type": "code",
   "execution_count": 3,
   "id": "a449651c",
   "metadata": {},
   "outputs": [],
   "source": [
    "from torchsummary import summary\n",
    "from torch.utils.data import DataLoader\n",
    "from torch.utils.data import Dataset as BaseDataset"
   ]
  },
  {
   "cell_type": "code",
   "execution_count": 4,
   "id": "d51ae58f",
   "metadata": {},
   "outputs": [],
   "source": [
    "VOLUMES_BASE_PATH=Path(r'G:\\Projects and Work\\Mouse Heart Segmentation\\Mice_CT_Dataset')\n",
    "LABELS_TO_KEEP=[1]\n",
    "SUBJECTS=os.listdir(VOLUMES_BASE_PATH/'volumes')\n",
    "# SUBJECTS=list(filter(lambda x: x.find(\"LAD\") != -1,SUBJECTS))\n",
    "# print(SUBJECTS)"
   ]
  },
  {
   "cell_type": "code",
   "execution_count": 5,
   "id": "dcb1c15f",
   "metadata": {},
   "outputs": [
    {
     "data": {
      "text/plain": [
       "['Axials', 'labels', 'volumes']"
      ]
     },
     "execution_count": 5,
     "metadata": {},
     "output_type": "execute_result"
    }
   ],
   "source": [
    "os.listdir(VOLUMES_BASE_PATH)"
   ]
  },
  {
   "cell_type": "code",
   "execution_count": 6,
   "id": "12fadbe9",
   "metadata": {},
   "outputs": [],
   "source": [
    "WIDTH=512\n",
    "HEIGHT=512"
   ]
  },
  {
   "cell_type": "code",
   "execution_count": 7,
   "id": "ef5b6215",
   "metadata": {},
   "outputs": [],
   "source": [
    "def create_folder(path):\n",
    "    if os.path.exists(path)==False:\n",
    "        os.mkdir(path)"
   ]
  },
  {
   "cell_type": "code",
   "execution_count": 8,
   "id": "e4a8a9de",
   "metadata": {},
   "outputs": [
    {
     "data": {
      "text/plain": [
       "['logs',\n",
       " 'Unet_efficientnet-b4',\n",
       " 'Unet_efficientnet-b4_WHS_Fine_Tuned',\n",
       " 'Unet_resnet101',\n",
       " 'Unet_resnet101_WHS_Fine_Tuned',\n",
       " 'Unet_se_resnext50_32x4d',\n",
       " 'Unet_se_resnext50_32x4d_WHS_Fine_Tuned']"
      ]
     },
     "execution_count": 8,
     "metadata": {},
     "output_type": "execute_result"
    }
   ],
   "source": [
    "os.listdir(r'G:\\Projects and Work\\Mouse Heart Segmentation\\Trained Weights - 13 Mice Volumes')"
   ]
  },
  {
   "cell_type": "code",
   "execution_count": 9,
   "id": "cfd99b77",
   "metadata": {},
   "outputs": [],
   "source": [
    "# Model to choose\n",
    "ENCODERS = ['efficientnet-b4','resnet101','se_resnext50_32x4d']\n",
    "ENCODER_WEIGHTS = 'imagenet'\n",
    "DEVICE = 'cuda'\n",
    "MODEL_NAME='Unet'"
   ]
  },
  {
   "cell_type": "code",
   "execution_count": 10,
   "id": "671296f0",
   "metadata": {},
   "outputs": [],
   "source": [
    "# function to save numpy volume array to .nii\n"
   ]
  },
  {
   "cell_type": "code",
   "execution_count": 11,
   "id": "8522f385",
   "metadata": {
    "scrolled": true
   },
   "outputs": [
    {
     "name": "stdout",
     "output_type": "stream",
     "text": [
      "C57-#10-MicroCT-020421 - Cardiac CT_110016-diastole\n",
      "C57-#10-MicroCT-020421 - Cardiac CT_110016-systole\n",
      "C57-#6-MicroCT-020421 - Cardiac CT_110734-diastole\n",
      "C57-#6-MicroCT-020421 - Cardiac CT_110734-systole\n",
      "C57-#8-MicroCT-020421 - Cardiac CT_104450-diastole\n",
      "C57-#8-MicroCT-020421 - Cardiac CT_104450-systole\n",
      "C57-#9-MicroCT-020421 - Cardiac CT_105254-diastole\n",
      "C57-#9-MicroCT-020421 - Cardiac CT_105254-systole\n",
      "C57-UmaControl#1-MicroCT-070120 - Cardiac CT_115114-diastole\n",
      "G:\\Projects and Work\\Mouse Heart Segmentation\\Mice_CT_Dataset\\labels\\C57-UmaControl#1-MicroCT-070120 - Cardiac CT_115114-diastole\\C57-UmaControl#1-MicroCT-070120 - Cardiac CT_115114-diastole_label.nii.gz\n"
     ]
    },
    {
     "name": "stderr",
     "output_type": "stream",
     "text": [
      "100%|███████████████████████████████████████████████████████████████████████| 512/512 [00:35<00:00, 14.34it/s]\n",
      "100%|███████████████████████████████████████████████████████████████████████| 512/512 [00:32<00:00, 15.96it/s]\n",
      "100%|███████████████████████████████████████████████████████████████████████| 512/512 [00:35<00:00, 14.53it/s]\n"
     ]
    },
    {
     "name": "stdout",
     "output_type": "stream",
     "text": [
      "C57-UmaControl#1-MicroCT-070120 - Cardiac CT_115114-systole\n",
      "C57-UmaControl#2-MicroCT-070120 - Cardiac CT_115916-diastole\n",
      "C57-UmaControl#2-MicroCT-070120 - Cardiac CT_115916-systole\n",
      "C57-UmaControl#3-MicroCT-070120 - Cardiac CT_121937-diastole\n",
      "C57-UmaControl#3-MicroCT-070120 - Cardiac CT_121937-systole\n",
      "LAD-#11-MicroCT-050321 - Cardiac CT_133143-diastole\n",
      "LAD-#11-MicroCT-050321 - Cardiac CT_133143-systole\n",
      "LAD-#12-MicroCT-050321 - Cardiac CT_133905-diastole\n",
      "LAD-#12-MicroCT-050321 - Cardiac CT_133905-systole\n",
      "LAD-#6-MicroCT-050321 - Cardiac CT_125739-diastole\n",
      "LAD-#6-MicroCT-050321 - Cardiac CT_125739-systole\n",
      "LAD-Uma#1-MicroCT-030519 - Cardiac CT_133621-diastole\n",
      "LAD-Uma#1-MicroCT-030519 - Cardiac CT_133621-systole\n",
      "LAD-Uma#5-MicroCT-030519 - Cardiac CT_134513-diastole\n",
      "LAD-Uma#5-MicroCT-030519 - Cardiac CT_134513-systole\n",
      "TAC-#3-MicroCT-050321 - Cardiac CT_115640-diastole\n",
      "TAC-#3-MicroCT-050321 - Cardiac CT_115640-systole\n",
      "TAC-#5-MicroCT-050321 - Cardiac CT_120528-diastole\n",
      "TAC-#5-MicroCT-050321 - Cardiac CT_120528-systole\n",
      "TAC-#8-MicroCT-050321 - Cardiac CT_124052-diastole\n",
      "TAC-#8-MicroCT-050321 - Cardiac CT_124052-systole\n",
      "TAC-U2-1-MicroCT100620 - Cardiac CT_100920-diastole\n",
      "TAC-U2-1-MicroCT100620 - Cardiac CT_100920-systole\n",
      "TAC-U2-2-MicroCT100620 - Cardiac CT_101711-diastole\n",
      "TAC-U2-2-MicroCT100620 - Cardiac CT_101711-systole\n",
      "TAC-U2-3-MicroCT100620 - Cardiac CT_102620-diastole\n",
      "TAC-U2-3-MicroCT100620 - Cardiac CT_102620-systole\n",
      "C57-#10-MicroCT-020421 - Cardiac CT_110016-diastole\n",
      "C57-#10-MicroCT-020421 - Cardiac CT_110016-systole\n",
      "C57-#6-MicroCT-020421 - Cardiac CT_110734-diastole\n",
      "C57-#6-MicroCT-020421 - Cardiac CT_110734-systole\n",
      "C57-#8-MicroCT-020421 - Cardiac CT_104450-diastole\n",
      "C57-#8-MicroCT-020421 - Cardiac CT_104450-systole\n",
      "C57-#9-MicroCT-020421 - Cardiac CT_105254-diastole\n",
      "C57-#9-MicroCT-020421 - Cardiac CT_105254-systole\n",
      "C57-UmaControl#1-MicroCT-070120 - Cardiac CT_115114-diastole\n",
      "C57-UmaControl#1-MicroCT-070120 - Cardiac CT_115114-systole\n",
      "C57-UmaControl#2-MicroCT-070120 - Cardiac CT_115916-diastole\n",
      "C57-UmaControl#2-MicroCT-070120 - Cardiac CT_115916-systole\n",
      "C57-UmaControl#3-MicroCT-070120 - Cardiac CT_121937-diastole\n",
      "C57-UmaControl#3-MicroCT-070120 - Cardiac CT_121937-systole\n",
      "LAD-#11-MicroCT-050321 - Cardiac CT_133143-diastole\n",
      "LAD-#11-MicroCT-050321 - Cardiac CT_133143-systole\n",
      "LAD-#12-MicroCT-050321 - Cardiac CT_133905-diastole\n",
      "LAD-#12-MicroCT-050321 - Cardiac CT_133905-systole\n",
      "LAD-#6-MicroCT-050321 - Cardiac CT_125739-diastole\n",
      "LAD-#6-MicroCT-050321 - Cardiac CT_125739-systole\n",
      "LAD-Uma#1-MicroCT-030519 - Cardiac CT_133621-diastole\n",
      "LAD-Uma#1-MicroCT-030519 - Cardiac CT_133621-systole\n",
      "LAD-Uma#5-MicroCT-030519 - Cardiac CT_134513-diastole\n",
      "LAD-Uma#5-MicroCT-030519 - Cardiac CT_134513-systole\n",
      "TAC-#3-MicroCT-050321 - Cardiac CT_115640-diastole\n",
      "TAC-#3-MicroCT-050321 - Cardiac CT_115640-systole\n",
      "TAC-#5-MicroCT-050321 - Cardiac CT_120528-diastole\n",
      "TAC-#5-MicroCT-050321 - Cardiac CT_120528-systole\n",
      "TAC-#8-MicroCT-050321 - Cardiac CT_124052-diastole\n",
      "TAC-#8-MicroCT-050321 - Cardiac CT_124052-systole\n",
      "TAC-U2-1-MicroCT100620 - Cardiac CT_100920-diastole\n",
      "TAC-U2-1-MicroCT100620 - Cardiac CT_100920-systole\n",
      "TAC-U2-2-MicroCT100620 - Cardiac CT_101711-diastole\n",
      "TAC-U2-2-MicroCT100620 - Cardiac CT_101711-systole\n",
      "TAC-U2-3-MicroCT100620 - Cardiac CT_102620-diastole\n",
      "TAC-U2-3-MicroCT100620 - Cardiac CT_102620-systole\n",
      "C57-#10-MicroCT-020421 - Cardiac CT_110016-diastole\n",
      "C57-#10-MicroCT-020421 - Cardiac CT_110016-systole\n",
      "C57-#6-MicroCT-020421 - Cardiac CT_110734-diastole\n",
      "C57-#6-MicroCT-020421 - Cardiac CT_110734-systole\n",
      "C57-#8-MicroCT-020421 - Cardiac CT_104450-diastole\n",
      "C57-#8-MicroCT-020421 - Cardiac CT_104450-systole\n",
      "C57-#9-MicroCT-020421 - Cardiac CT_105254-diastole\n",
      "C57-#9-MicroCT-020421 - Cardiac CT_105254-systole\n",
      "C57-UmaControl#1-MicroCT-070120 - Cardiac CT_115114-diastole\n",
      "C57-UmaControl#1-MicroCT-070120 - Cardiac CT_115114-systole\n",
      "C57-UmaControl#2-MicroCT-070120 - Cardiac CT_115916-diastole\n",
      "C57-UmaControl#2-MicroCT-070120 - Cardiac CT_115916-systole\n",
      "C57-UmaControl#3-MicroCT-070120 - Cardiac CT_121937-diastole\n",
      "C57-UmaControl#3-MicroCT-070120 - Cardiac CT_121937-systole\n",
      "LAD-#11-MicroCT-050321 - Cardiac CT_133143-diastole\n",
      "LAD-#11-MicroCT-050321 - Cardiac CT_133143-systole\n",
      "LAD-#12-MicroCT-050321 - Cardiac CT_133905-diastole\n",
      "LAD-#12-MicroCT-050321 - Cardiac CT_133905-systole\n",
      "LAD-#6-MicroCT-050321 - Cardiac CT_125739-diastole\n",
      "LAD-#6-MicroCT-050321 - Cardiac CT_125739-systole\n",
      "LAD-Uma#1-MicroCT-030519 - Cardiac CT_133621-diastole\n",
      "LAD-Uma#1-MicroCT-030519 - Cardiac CT_133621-systole\n",
      "LAD-Uma#5-MicroCT-030519 - Cardiac CT_134513-diastole\n",
      "LAD-Uma#5-MicroCT-030519 - Cardiac CT_134513-systole\n",
      "TAC-#3-MicroCT-050321 - Cardiac CT_115640-diastole\n",
      "TAC-#3-MicroCT-050321 - Cardiac CT_115640-systole\n",
      "TAC-#5-MicroCT-050321 - Cardiac CT_120528-diastole\n",
      "TAC-#5-MicroCT-050321 - Cardiac CT_120528-systole\n",
      "TAC-#8-MicroCT-050321 - Cardiac CT_124052-diastole\n",
      "TAC-#8-MicroCT-050321 - Cardiac CT_124052-systole\n",
      "TAC-U2-1-MicroCT100620 - Cardiac CT_100920-diastole\n",
      "TAC-U2-1-MicroCT100620 - Cardiac CT_100920-systole\n",
      "TAC-U2-2-MicroCT100620 - Cardiac CT_101711-diastole\n",
      "TAC-U2-2-MicroCT100620 - Cardiac CT_101711-systole\n",
      "TAC-U2-3-MicroCT100620 - Cardiac CT_102620-diastole\n",
      "TAC-U2-3-MicroCT100620 - Cardiac CT_102620-systole\n"
     ]
    }
   ],
   "source": [
    "# Run a model on all volumes\n",
    "for ENCODER in ENCODERS:\n",
    "    BEST_WEIGHTS=fr'G:\\Projects and Work\\Mouse Heart Segmentation\\Trained Weights - 13 Mice Volumes\\Unet_{ENCODER}\\best_score.pt'\n",
    "    OUTPUT_PATH=Path(fr'G:\\Projects and Work\\Mouse Heart Segmentation\\Trained Weights - 13 Mice Volumes\\Unet_{ENCODER}\\Outputs New')\n",
    "    create_folder(OUTPUT_PATH)\n",
    "    # Load model\n",
    "    preprocessing_fn = smp.encoders.get_preprocessing_fn(ENCODER, ENCODER_WEIGHTS)\n",
    "    best_model = torch.load(BEST_WEIGHTS)\n",
    "\n",
    "    for i in range(len(SUBJECTS)):\n",
    "        print(SUBJECTS[i])\n",
    "        subject_name = SUBJECTS[i]\n",
    "        subject_path = os.path.join(VOLUMES_BASE_PATH,'volumes',subject_name,f'{subject_name}_volume.nii') # volume path\n",
    "        if os.path.exists(subject_path) is False: #if .nii file of volume ct not present then skip\n",
    "            continue\n",
    "        subject_label_path = os.path.join(VOLUMES_BASE_PATH,'labels',subject_name ,f'{subject_name}_label.nii') #volume label\n",
    "        if os.path.exists(subject_label_path)==False: # checking if extension is .nii or .nii.gz \n",
    "            subject_label_path = os.path.join(VOLUMES_BASE_PATH,'labels',subject_name,f'{subject_name}_label.nii.gz')   \n",
    "        if os.path.exists(os.path.join(OUTPUT_PATH,subject_name)):\n",
    "            continue\n",
    "        create_folder(os.path.join(OUTPUT_PATH,subject_name)) # create output folder\n",
    "        volume, volume_gt_mask,affine = load_case(subject_path,subject_label_path) # Load volume with its affine and mask\n",
    "        volume_pred_mask=predict_volume(best_model,volume,True,preprocessing_fn)   # Predict volume\n",
    "        volume_pred_mask=np.round(volume_pred_mask)\n",
    "        save_mask_nii(volume_pred_mask,affine,os.path.join(OUTPUT_PATH,subject_name,'prediction.nii.gz'))    #save predicted volume\n",
    "        if volume_gt_mask is not None:     # save grouth truth .nii file also for convinience\n",
    "            save_mask_nii(volume_gt_mask,affine,os.path.join(OUTPUT_PATH,subject_name,'ground_truth.nii.gz'))"
   ]
  },
  {
   "cell_type": "code",
   "execution_count": 12,
   "id": "556c204b",
   "metadata": {},
   "outputs": [
    {
     "data": {
      "text/plain": [
       "(512, 512, 512)"
      ]
     },
     "execution_count": 12,
     "metadata": {},
     "output_type": "execute_result"
    }
   ],
   "source": [
    "volume_pred_mask.shape"
   ]
  },
  {
   "cell_type": "code",
   "execution_count": 3,
   "id": "2f3002d9",
   "metadata": {},
   "outputs": [
    {
     "ename": "NameError",
     "evalue": "name 'visualize' is not defined",
     "output_type": "error",
     "traceback": [
      "\u001b[1;31m---------------------------------------------------------------------------\u001b[0m",
      "\u001b[1;31mNameError\u001b[0m                                 Traceback (most recent call last)",
      "\u001b[1;32mC:\\Users\\SHAHER~1\\AppData\\Local\\Temp/ipykernel_14844/1373004252.py\u001b[0m in \u001b[0;36m<module>\u001b[1;34m\u001b[0m\n\u001b[1;32m----> 1\u001b[1;33m \u001b[0mvisualize\u001b[0m\u001b[1;33m(\u001b[0m\u001b[1;33m)\u001b[0m\u001b[1;33m\u001b[0m\u001b[1;33m\u001b[0m\u001b[0m\n\u001b[0m",
      "\u001b[1;31mNameError\u001b[0m: name 'visualize' is not defined"
     ]
    }
   ],
   "source": [
    "visualize()"
   ]
  },
  {
   "cell_type": "code",
   "execution_count": null,
   "id": "87e9c795",
   "metadata": {},
   "outputs": [],
   "source": []
  }
 ],
 "metadata": {
  "kernelspec": {
   "display_name": "Python 3 (ipykernel)",
   "language": "python",
   "name": "python3"
  },
  "language_info": {
   "codemirror_mode": {
    "name": "ipython",
    "version": 3
   },
   "file_extension": ".py",
   "mimetype": "text/x-python",
   "name": "python",
   "nbconvert_exporter": "python",
   "pygments_lexer": "ipython3",
   "version": "3.9.7"
  }
 },
 "nbformat": 4,
 "nbformat_minor": 5
}
